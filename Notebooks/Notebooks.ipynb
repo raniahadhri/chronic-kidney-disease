{
 "cells": [
  {
   "cell_type": "code",
   "execution_count": 1,
   "id": "fb1b8742",
   "metadata": {},
   "outputs": [],
   "source": [
    "# importation les bibliotheque nécessaire\n",
    "import numpy as np\n",
    "import pandas as pd"
   ]
  },
  {
   "cell_type": "code",
   "execution_count": null,
   "id": "004d154f",
   "metadata": {},
   "outputs": [
    {
     "name": "stdout",
     "output_type": "stream",
     "text": [
      "Dataset URL: https://www.kaggle.com/datasets/amanik000/kidney-disease-dataset\n",
      "License(s): unknown\n",
      "Downloading kidney-disease-dataset.zip to c:\\Users\\hadhr\\Documents\\chronic-kidney-disease\\Chronic-Kidney-Disease\\Notebooks\n",
      "\n"
     ]
    },
    {
     "name": "stderr",
     "output_type": "stream",
     "text": [
      "\n",
      "  0%|          | 0.00/1.94M [00:00<?, ?B/s]\n",
      "100%|██████████| 1.94M/1.94M [00:00<?, ?B/s]\n"
     ]
    }
   ],
   "source": [
    "#!kaggle datasets download -d amanik000/kidney-disease-dataset"
   ]
  },
  {
   "cell_type": "code",
   "execution_count": null,
   "id": "baf92280",
   "metadata": {},
   "outputs": [],
   "source": [
    "import zipfile\n",
    "\n",
    "with zipfile.ZipFile('../kidney-disease-dataset.zip', 'r') as zip_ref:\n",
    "    zip_ref.extractall('data')"
   ]
  },
  {
   "cell_type": "code",
   "execution_count": 4,
   "id": "1f2031cc",
   "metadata": {},
   "outputs": [
    {
     "name": "stdout",
     "output_type": "stream",
     "text": [
      "c:\\Users\\hadhr\\Documents\\chronic-kidney-disease\\Chronic-Kidney-Disease\\Notebooks\n"
     ]
    }
   ],
   "source": [
    "import os\n",
    "print(os.getcwd())"
   ]
  },
  {
   "cell_type": "code",
   "execution_count": 5,
   "id": "502fd6a5",
   "metadata": {},
   "outputs": [
    {
     "name": "stdout",
     "output_type": "stream",
     "text": [
      "   Age of the patient  Blood pressure (mm/Hg)  Specific gravity of urine  \\\n",
      "0                  54                     167                      1.023   \n",
      "1                  42                     127                      1.023   \n",
      "2                  38                     148                      1.016   \n",
      "3                   7                      98                      1.017   \n",
      "4                  67                     174                      1.015   \n",
      "\n",
      "   Albumin in urine  Sugar in urine Red blood cells in urine  \\\n",
      "0                 1               4                   normal   \n",
      "1                 3               2                   normal   \n",
      "2                 0               0                 abnormal   \n",
      "3                 4               0                 abnormal   \n",
      "4                 1               1                   normal   \n",
      "\n",
      "  Pus cells in urine Pus cell clumps in urine Bacteria in urine  \\\n",
      "0           abnormal              not present       not present   \n",
      "1             normal              not present           present   \n",
      "2             normal              not present       not present   \n",
      "3             normal              not present           present   \n",
      "4           abnormal              not present       not present   \n",
      "\n",
      "   Random blood glucose level (mg/dl)  ...  Smoking status  \\\n",
      "0                                  96  ...             yes   \n",
      "1                                  73  ...              no   \n",
      "2                                  77  ...              no   \n",
      "3                                 225  ...              no   \n",
      "4                                 376  ...             yes   \n",
      "\n",
      "   Body Mass Index (BMI)  Physical activity level  \\\n",
      "0                   25.3                      low   \n",
      "1                   20.6                 moderate   \n",
      "2                   38.4                     high   \n",
      "3                   24.7                     high   \n",
      "4                   17.6                     high   \n",
      "\n",
      "   Duration of diabetes mellitus (years)  Duration of hypertension (years)  \\\n",
      "0                                      4                                16   \n",
      "1                                      3                                13   \n",
      "2                                     11                                23   \n",
      "3                                     24                                 3   \n",
      "4                                     22                                24   \n",
      "\n",
      "   Cystatin C level  Urinary sediment microscopy results  \\\n",
      "0              0.67                               normal   \n",
      "1              0.55                             abnormal   \n",
      "2              2.37                             abnormal   \n",
      "3              2.54                             abnormal   \n",
      "4              1.90                               normal   \n",
      "\n",
      "   C-reactive protein (CRP) level Interleukin-6 (IL-6) level      Target  \n",
      "0                            4.88                      10.23  No_Disease  \n",
      "1                            4.49                      13.11    Low_Risk  \n",
      "2                            4.57                      13.27  No_Disease  \n",
      "3                            8.57                      12.36  No_Disease  \n",
      "4                            6.75                       1.46  No_Disease  \n",
      "\n",
      "[5 rows x 43 columns]\n"
     ]
    }
   ],
   "source": [
    "df = pd.read_csv(\"../data/kidney_disease_dataset.csv\")\n",
    "print(df.head())"
   ]
  }
 ],
 "metadata": {
  "kernelspec": {
   "display_name": ".venv",
   "language": "python",
   "name": "python3"
  },
  "language_info": {
   "codemirror_mode": {
    "name": "ipython",
    "version": 3
   },
   "file_extension": ".py",
   "mimetype": "text/x-python",
   "name": "python",
   "nbconvert_exporter": "python",
   "pygments_lexer": "ipython3",
   "version": "3.10.5"
  }
 },
 "nbformat": 4,
 "nbformat_minor": 5
}
