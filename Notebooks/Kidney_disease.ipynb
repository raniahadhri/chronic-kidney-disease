{
  "cells": [
    {
      "cell_type": "markdown",
      "id": "e591394f-5aa6-4202-8514-f0add52d5c42",
      "metadata": {
        "id": "e591394f-5aa6-4202-8514-f0add52d5c42"
      },
      "source": [
        "importation les bibliotheque nécessaire"
      ]
    },
    {
      "cell_type": "code",
      "execution_count": null,
      "id": "cbf488a6-53f6-4db4-bd0f-dfd444d0bbc0",
      "metadata": {
        "id": "cbf488a6-53f6-4db4-bd0f-dfd444d0bbc0",
        "tags": []
      },
      "outputs": [
        {
          "ename": "ModuleNotFoundError",
          "evalue": "No module named 'numpy'",
          "output_type": "error",
          "traceback": [
            "\u001b[1;31m---------------------------------------------------------------------------\u001b[0m",
            "\u001b[1;31mModuleNotFoundError\u001b[0m                       Traceback (most recent call last)",
            "Cell \u001b[1;32mIn[1], line 1\u001b[0m\n\u001b[1;32m----> 1\u001b[0m \u001b[38;5;28;01mimport\u001b[39;00m\u001b[38;5;250m \u001b[39m\u001b[38;5;21;01mnumpy\u001b[39;00m\u001b[38;5;250m \u001b[39m\u001b[38;5;28;01mas\u001b[39;00m\u001b[38;5;250m \u001b[39m\u001b[38;5;21;01mnp\u001b[39;00m\n",
            "\u001b[1;31mModuleNotFoundError\u001b[0m: No module named 'numpy'"
          ]
        }
      ],
      "source": [
        "#import numpy as np\n",
        "from sklearn import svm\n",
        "from sklearn.tree import DecisionTreeClassifier,export_text\n",
        "from sklearn.model_selection import GridSearchCV\n",
        "from sklearn.neighbors import KNeighborsClassifier\n",
        "from sklearn.model_selection import train_test_split\n",
        "import matplotlib.pyplot as plt ##\n",
        "from sklearn.preprocessing import StandardScaler,normalize,MinMaxScaler\n",
        "from sklearn.preprocessing import OrdinalEncoder\n",
        "from sklearn.feature_selection import RFECV\n",
        "from sklearn.metrics import classification_report,f1_score,recall_score,accuracy_score,precision_score\n",
        "#import pandas as pd\n",
        "#from scipy.io import arff\n",
        "import seaborn as sns\n",
        "from sklearn.ensemble import RandomForestClassifier\n",
        "\n",
        "%matplotlib inline"
      ]
    },
    {
      "cell_type": "markdown",
      "id": "1f1366ae-919c-4fbd-b0ea-bfb218bfdfc5",
      "metadata": {
        "id": "1f1366ae-919c-4fbd-b0ea-bfb218bfdfc5"
      },
      "source": [
        "importation les données"
      ]
    },
    {
      "cell_type": "code",
      "execution_count": null,
      "id": "2a6fe59f-aecb-4b09-8210-e9df5679c61c",
      "metadata": {
        "colab": {
          "base_uri": "https://localhost:8080/"
        },
        "id": "2a6fe59f-aecb-4b09-8210-e9df5679c61c",
        "outputId": "8db113f4-500b-4e14-f613-bdf033f7f266"
      },
      "outputs": [
        {
          "name": "stdout",
          "output_type": "stream",
          "text": [
            "              age          bp         bgr          bu          sc         sod  \\\n",
            "count  391.000000  388.000000  356.000000  381.000000  383.000000  313.000000   \n",
            "mean    51.483376   76.469072  148.036517   57.425722    3.072454  137.528754   \n",
            "std     17.169714   13.683637   79.281714   50.503006    5.741126   10.408752   \n",
            "min      2.000000   50.000000   22.000000    1.500000    0.400000    4.500000   \n",
            "25%     42.000000   70.000000   99.000000   27.000000    0.900000  135.000000   \n",
            "50%     55.000000   80.000000  121.000000   42.000000    1.300000  138.000000   \n",
            "75%     64.500000   80.000000  163.000000   66.000000    2.800000  142.000000   \n",
            "max     90.000000  180.000000  490.000000  391.000000   76.000000  163.000000   \n",
            "\n",
            "              pot        hemo         pcv          wbcc        rbcc  \n",
            "count  312.000000  348.000000  329.000000    294.000000  269.000000  \n",
            "mean     4.627244   12.526437   38.884498   8406.122449    4.707435  \n",
            "std      3.193904    2.912587    8.990105   2944.474190    1.025323  \n",
            "min      2.500000    3.100000    9.000000   2200.000000    2.100000  \n",
            "25%      3.800000   10.300000   32.000000   6500.000000    3.900000  \n",
            "50%      4.400000   12.650000   40.000000   8000.000000    4.800000  \n",
            "75%      4.900000   15.000000   45.000000   9800.000000    5.400000  \n",
            "max     47.000000   17.800000   54.000000  26400.000000    8.000000  \n"
          ]
        }
      ],
      "source": [
        "data = arff.loadarff('ckd.arff')  #load a dataset in ARFF (Attribute-Relation File Format)\n",
        "df=pd.DataFrame(data[0])\n",
        "df.head()\n",
        "d=df.describe()\n",
        "print(d)"
      ]
    },
    {
      "cell_type": "markdown",
      "id": "3dc0bdec-6b1e-4c1b-9609-495b7c0f5638",
      "metadata": {
        "id": "3dc0bdec-6b1e-4c1b-9609-495b7c0f5638"
      },
      "source": [
        "# **I) Data cleaning** :\n",
        "\n",
        "enlever la lettre b qu'il est devant les valeurs les features quantitatives"
      ]
    },
    {
      "cell_type": "code",
      "execution_count": null,
      "id": "fb78012d-52dc-4c68-844a-18dc68b0371d",
      "metadata": {
        "colab": {
          "base_uri": "https://localhost:8080/"
        },
        "id": "fb78012d-52dc-4c68-844a-18dc68b0371d",
        "outputId": "c3371a3a-4bbf-4ea9-f903-9cee9782f82c"
      },
      "outputs": [
        {
          "name": "stdout",
          "output_type": "stream",
          "text": [
            "      age    bp     sg al su     rbc        pc         pcc          ba    bgr  \\\n",
            "0    48.0  80.0  1.020  1  0       ?    normal  notpresent  notpresent  121.0   \n",
            "1     7.0  50.0  1.020  4  0       ?    normal  notpresent  notpresent    NaN   \n",
            "2    62.0  80.0  1.010  2  3  normal    normal  notpresent  notpresent  423.0   \n",
            "3    48.0  70.0  1.005  4  0  normal  abnormal     present  notpresent  117.0   \n",
            "4    51.0  80.0  1.010  2  0  normal    normal  notpresent  notpresent  106.0   \n",
            "..    ...   ...    ... .. ..     ...       ...         ...         ...    ...   \n",
            "395  55.0  80.0  1.020  0  0  normal    normal  notpresent  notpresent  140.0   \n",
            "396  42.0  70.0  1.025  0  0  normal    normal  notpresent  notpresent   75.0   \n",
            "397  12.0  80.0  1.020  0  0  normal    normal  notpresent  notpresent  100.0   \n",
            "398  17.0  60.0  1.025  0  0  normal    normal  notpresent  notpresent  114.0   \n",
            "399  58.0  80.0  1.025  0  0  normal    normal  notpresent  notpresent  131.0   \n",
            "\n",
            "     ...   pcv    wbcc  rbcc  htn   dm  cad  appet   pe  ane   class  \n",
            "0    ...  44.0  7800.0   5.2  yes  yes   no   good   no   no     ckd  \n",
            "1    ...  38.0  6000.0   NaN   no   no   no   good   no   no     ckd  \n",
            "2    ...  31.0  7500.0   NaN   no  yes   no   poor   no  yes     ckd  \n",
            "3    ...  32.0  6700.0   3.9  yes   no   no   poor  yes  yes     ckd  \n",
            "4    ...  35.0  7300.0   4.6   no   no   no   good   no   no     ckd  \n",
            "..   ...   ...     ...   ...  ...  ...  ...    ...  ...  ...     ...  \n",
            "395  ...  47.0  6700.0   4.9   no   no   no   good   no   no  notckd  \n",
            "396  ...  54.0  7800.0   6.2   no   no   no   good   no   no  notckd  \n",
            "397  ...  49.0  6600.0   5.4   no   no   no   good   no   no  notckd  \n",
            "398  ...  51.0  7200.0   5.9   no   no   no   good   no   no  notckd  \n",
            "399  ...  53.0  6800.0   6.1   no   no   no   good   no   no  notckd  \n",
            "\n",
            "[400 rows x 25 columns]\n"
          ]
        }
      ],
      "source": [
        "\n",
        "ty=df.dtypes\n",
        "colsNam=ty[ty==\"object\"].index.tolist()\n",
        "for i in colsNam :\n",
        "    df[i]= df[i].str.decode('utf-8')\n",
        "print(df)"
      ]
    },
    {
      "cell_type": "markdown",
      "id": "4dca95c0-e411-419a-9566-d6dc24061275",
      "metadata": {
        "id": "4dca95c0-e411-419a-9566-d6dc24061275"
      },
      "source": [
        "## **A)LES Features quantitatives**\n",
        "# 1) Les valeurs aberrantes\n",
        "Pour les features quantitatives, On s'interesse aux valeurs aberrantes\n",
        "qui sont de type \"float\"\n",
        "On collecte d'abord les features de type float dans une liste, on parcoure la liste et on cherche les valeurs aberrantes qui sont comprises entre df[i]<Q1-IQR) et (df[i]>Q3+IQR) et on les stocke dans un dictionnaire"
      ]
    },
    {
      "cell_type": "code",
      "execution_count": null,
      "id": "0061cdf7-beea-4aec-b569-3da083a67dff",
      "metadata": {
        "id": "0061cdf7-beea-4aec-b569-3da083a67dff",
        "outputId": "049029e7-cfc0-450f-dda8-20107d2dbd55"
      },
      "outputs": [
        {
          "name": "stdout",
          "output_type": "stream",
          "text": [
            "{'age': array([7., 5., 5., 8., 4., 8., 3., 8., 6., 2.]), 'bp': array([ 50., 100., 100., 100., 100., 100., 100., 100., 100., 100., 110.,\n",
            "       100., 100., 140., 180., 100., 100.,  50., 100., 100., 100.,  50.,\n",
            "        50., 110., 100., 100., 100., 120., 100., 100.,  50., 100., 100.,\n",
            "       100., 100., 110.]), 'bgr': array([423., 410., 490., 380., 263., 264., 270., 425., 360., 360., 415.,\n",
            "       280., 295., 298., 297., 294., 323., 308., 268., 288., 273., 424.,\n",
            "       303., 307., 447., 309., 261., 352., 341., 303., 490., 269., 463.,\n",
            "       424.]), 'bu': array([162., 148., 180., 163., 155., 153., 202., 164., 155., 142., 391.,\n",
            "       139., 186., 217., 219., 125., 125., 166., 208., 176., 125., 145.,\n",
            "       165., 322., 235., 132., 146., 133., 153., 137., 223., 158., 132.,\n",
            "       150., 191., 241., 215., 309.]), 'sc': array([24. ,  7.2,  9.6, 76. ,  7.7,  7.3, 10.8,  6.3,  5.9,  9.7,  7.3,\n",
            "        6.4, 32. ,  6.1,  6.7,  6.7,  8.5, 15. ,  6.5, 10.2, 11.5,  6.1,\n",
            "       12.2,  9.2, 13.8, 16.9,  6. ,  7.1, 18. , 13. , 48.1, 14.2, 16.4,\n",
            "        7.3,  7.5,  6.5,  6. , 18.1, 11.8,  9.3,  7.3,  6.8, 13.5, 12.8,\n",
            "       11.9,  7.2, 12. , 13.4,  6.3, 15.2, 13.3]), 'sod': array([111. , 104. , 114. ,   4.5, 163. , 122. , 124. , 115. , 113. ,\n",
            "       113. , 122. , 124. , 114. , 120. , 120. , 124. ]), 'pot': array([ 6.6, 39. ,  7.6, 47. ]), 'hemo': array([3.1]), 'pcv': array([9.]), 'wbcc': array([18900., 21600., 14900., 15200., 16300., 15200., 19100., 16700.,\n",
            "       26400., 15700.]), 'rbcc': array([8.])}\n"
          ]
        }
      ],
      "source": [
        "outDic=dict()\n",
        "ty=df.dtypes\n",
        "cloNum=ty[ty==\"float64\"].index.tolist()\n",
        "val=list\n",
        "for i in cloNum:\n",
        "    Q3=df[i].quantile(0.75)\n",
        "    Q1=df[i].quantile(0.25)\n",
        "    IQR=1.5*(Q3-Q1)\n",
        "    val=df[i].values[(df[i]<Q1-IQR)|(df[i]>Q3+IQR)]\n",
        "    outDic[i]=val\n",
        "print(outDic)"
      ]
    },
    {
      "cell_type": "markdown",
      "id": "495668db-f96a-448c-848b-c251adccab2b",
      "metadata": {
        "id": "495668db-f96a-448c-848b-c251adccab2b"
      },
      "source": [
        "# 2) Les valeurs manquantes\n",
        "\n",
        "\n",
        "Pour  les features quantitatives, on cherche a remplacer les valeurs manquantes par la valeur de la moyenne de chaque feature.\n",
        "Pour ce faire, On calcul d'abord le nombre des valeurs manquantes pour chaque features et on les stockent dans une liste \"l\".\n",
        "Puis on parcoure la liste l, et on s'interesse aux features dans la somme des valeurs nan est non nulle, on calcule sa valeur moyenne 'moy' et on remplace chaque valeur manquantes par la valeur moyenne.\n",
        "On verifie enfin l'absence des valeurs manquantes\n"
      ]
    },
    {
      "cell_type": "code",
      "execution_count": null,
      "id": "3ac0b9bf-044e-4a7b-9abb-0790fdcae1f1",
      "metadata": {
        "id": "3ac0b9bf-044e-4a7b-9abb-0790fdcae1f1",
        "outputId": "a29ea2e6-dfb9-4d1a-f286-916a35e2e05d"
      },
      "outputs": [
        {
          "name": "stdout",
          "output_type": "stream",
          "text": [
            "nombre des valeurs Nan pour chaque feature avant \n",
            "age        9\n",
            "bp        12\n",
            "sg         0\n",
            "al         0\n",
            "su         0\n",
            "rbc        0\n",
            "pc         0\n",
            "pcc        0\n",
            "ba         0\n",
            "bgr       44\n",
            "bu        19\n",
            "sc        17\n",
            "sod       87\n",
            "pot       88\n",
            "hemo      52\n",
            "pcv       71\n",
            "wbcc     106\n",
            "rbcc     131\n",
            "htn        0\n",
            "dm         0\n",
            "cad        0\n",
            "appet      0\n",
            "pe         0\n",
            "ane        0\n",
            "class      0\n",
            "dtype: int64\n",
            "nombre des valeurs Nan pour chaque feature avant \n",
            "age      0\n",
            "bp       0\n",
            "sg       0\n",
            "al       0\n",
            "su       0\n",
            "rbc      0\n",
            "pc       0\n",
            "pcc      0\n",
            "ba       0\n",
            "bgr      0\n",
            "bu       0\n",
            "sc       0\n",
            "sod      0\n",
            "pot      0\n",
            "hemo     0\n",
            "pcv      0\n",
            "wbcc     0\n",
            "rbcc     0\n",
            "htn      0\n",
            "dm       0\n",
            "cad      0\n",
            "appet    0\n",
            "pe       0\n",
            "ane      0\n",
            "class    0\n",
            "dtype: int64\n"
          ]
        }
      ],
      "source": [
        "l=df.isna().sum()\n",
        "print(\"nombre des valeurs Nan pour chaque feature avant \")\n",
        "print(l)\n",
        "c=l[df.isna().sum()!=0].index.tolist()\n",
        "for i in c:\n",
        "    moy=df[i].mean()\n",
        "    df[i].values[df[i].isna()]=moy\n",
        "print(\"nombre des valeurs Nan pour chaque feature apres \")\n",
        "print(df.isna().sum())"
      ]
    },
    {
      "cell_type": "markdown",
      "id": "04e5feba-a08f-48b8-8855-7a90d92b5bab",
      "metadata": {
        "id": "04e5feba-a08f-48b8-8855-7a90d92b5bab"
      },
      "source": [
        "# **B) les features qualitatives**\n",
        "# 1)les valeurs manquantes:\n",
        "Pour les features qualitatives, On a choisit de remplacer les les valeurs manquantes de chaque feature par la valeur la plus frequent de chaque feature.\n",
        "Pour ce faire, on selectionne d'abord les valeurs quantitaives dont le type est \"object\" dans \"colsSTr\". On parcourt cette liste, on calcul le mode et pour chaque valeur manquante on la remplace par le mode.\n",
        "Puis on calcul pour chaque feature qualitative le nombre de repetition pour chaque valeur."
      ]
    },
    {
      "cell_type": "code",
      "execution_count": null,
      "id": "833f2c36-e8f1-449a-b4a8-e0da83eaad9e",
      "metadata": {
        "id": "833f2c36-e8f1-449a-b4a8-e0da83eaad9e",
        "outputId": "b6c05571-4c31-412a-c997-132d64698e3c"
      },
      "outputs": [
        {
          "name": "stdout",
          "output_type": "stream",
          "text": [
            "le nombre de repetition pour chaque valeur  sg\n",
            "1.020    153\n",
            "1.010     84\n",
            "1.025     81\n",
            "1.015     75\n",
            "1.005      7\n",
            "Name: sg, dtype: int64\n",
            "le nombre de repetition pour chaque valeur  al\n",
            "0    245\n",
            "1     44\n",
            "2     43\n",
            "3     43\n",
            "4     24\n",
            "5      1\n",
            "Name: al, dtype: int64\n",
            "le nombre de repetition pour chaque valeur  su\n",
            "0    339\n",
            "2     18\n",
            "3     14\n",
            "4     13\n",
            "1     13\n",
            "5      3\n",
            "Name: su, dtype: int64\n",
            "le nombre de repetition pour chaque valeur  rbc\n",
            "normal      353\n",
            "abnormal     47\n",
            "Name: rbc, dtype: int64\n",
            "le nombre de repetition pour chaque valeur  pc\n",
            "normal      324\n",
            "abnormal     76\n",
            "Name: pc, dtype: int64\n",
            "le nombre de repetition pour chaque valeur  pcc\n",
            "notpresent    358\n",
            "present        42\n",
            "Name: pcc, dtype: int64\n",
            "le nombre de repetition pour chaque valeur  ba\n",
            "notpresent    378\n",
            "present        22\n",
            "Name: ba, dtype: int64\n",
            "le nombre de repetition pour chaque valeur  htn\n",
            "no     253\n",
            "yes    147\n",
            "Name: htn, dtype: int64\n",
            "le nombre de repetition pour chaque valeur  dm\n",
            "no     263\n",
            "yes    137\n",
            "Name: dm, dtype: int64\n",
            "le nombre de repetition pour chaque valeur  cad\n",
            "no     366\n",
            "yes     34\n",
            "Name: cad, dtype: int64\n",
            "le nombre de repetition pour chaque valeur  appet\n",
            "good    318\n",
            "poor     82\n",
            "Name: appet, dtype: int64\n",
            "le nombre de repetition pour chaque valeur  pe\n",
            "no     324\n",
            "yes     76\n",
            "Name: pe, dtype: int64\n",
            "le nombre de repetition pour chaque valeur  ane\n",
            "no     340\n",
            "yes     60\n",
            "Name: ane, dtype: int64\n",
            "le nombre de repetition pour chaque valeur  class\n",
            "ckd       250\n",
            "notckd    150\n",
            "Name: class, dtype: int64\n"
          ]
        }
      ],
      "source": [
        "ty=df.dtypes\n",
        "colsStr=ty[ty==\"object\"].index.tolist()\n",
        "for i in colsStr:\n",
        "    modeVal=df[i].mode()\n",
        "    df[i].values[df[i]==\"?\"]=modeVal\n",
        "for i in colsStr:\n",
        "    print(\"le nombre de repetition pour chaque valeur \",i)\n",
        "    print(df[i].value_counts())\n"
      ]
    },
    {
      "cell_type": "markdown",
      "id": "6bec31a4-014b-4045-bced-2cea5d3045c8",
      "metadata": {
        "id": "6bec31a4-014b-4045-bced-2cea5d3045c8"
      },
      "source": [
        "\n",
        "# 2)Conversion du qualitative au quantitative :\n",
        "On remarque que les features \"sg\",\"al\",\"su\" sont de type \"object\" alors qu'ils sont des valeur numerique, dont on va convertir ces 3 features qualitatives en des features quantitatives c'est a dire de type \"float\".\n",
        "Finalement on calcule le nombre de features de type object cad qualitatives, on remarque que ce nombre a diminué."
      ]
    },
    {
      "cell_type": "code",
      "execution_count": null,
      "id": "df189d66-bc12-4a7c-acad-0d1994d1319b",
      "metadata": {
        "colab": {
          "base_uri": "https://localhost:8080/",
          "height": 380
        },
        "id": "df189d66-bc12-4a7c-acad-0d1994d1319b",
        "outputId": "7dbab23f-a987-4c01-d41d-8e449647c9b0"
      },
      "outputs": [
        {
          "ename": "ValueError",
          "evalue": "ignored",
          "output_type": "error",
          "traceback": [
            "\u001b[0;31m---------------------------------------------------------------------------\u001b[0m",
            "\u001b[0;31mValueError\u001b[0m                                Traceback (most recent call last)",
            "\u001b[0;32m<ipython-input-25-794a7c4841a9>\u001b[0m in \u001b[0;36m<module>\u001b[0;34m\u001b[0m\n\u001b[1;32m      1\u001b[0m \u001b[0mNumCol\u001b[0m\u001b[0;34m=\u001b[0m\u001b[0;34m[\u001b[0m\u001b[0;34m\"sg\"\u001b[0m\u001b[0;34m,\u001b[0m\u001b[0;34m\"al\"\u001b[0m\u001b[0;34m,\u001b[0m\u001b[0;34m\"su\"\u001b[0m\u001b[0;34m]\u001b[0m\u001b[0;34m\u001b[0m\u001b[0;34m\u001b[0m\u001b[0m\n\u001b[0;32m----> 2\u001b[0;31m \u001b[0mdf\u001b[0m\u001b[0;34m[\u001b[0m\u001b[0mNumCol\u001b[0m\u001b[0;34m]\u001b[0m\u001b[0;34m=\u001b[0m\u001b[0mdf\u001b[0m\u001b[0;34m[\u001b[0m\u001b[0mNumCol\u001b[0m\u001b[0;34m]\u001b[0m\u001b[0;34m.\u001b[0m\u001b[0mastype\u001b[0m\u001b[0;34m(\u001b[0m\u001b[0;34m\"float\"\u001b[0m\u001b[0;34m)\u001b[0m\u001b[0;34m\u001b[0m\u001b[0;34m\u001b[0m\u001b[0m\n\u001b[0m\u001b[1;32m      3\u001b[0m \u001b[0mprint\u001b[0m\u001b[0;34m(\u001b[0m\u001b[0mlen\u001b[0m\u001b[0;34m(\u001b[0m\u001b[0mdf\u001b[0m\u001b[0;34m.\u001b[0m\u001b[0mdtypes\u001b[0m\u001b[0;34m[\u001b[0m\u001b[0;34m\"object\"\u001b[0m\u001b[0;34m]\u001b[0m\u001b[0;34m)\u001b[0m\u001b[0;34m)\u001b[0m\u001b[0;34m\u001b[0m\u001b[0;34m\u001b[0m\u001b[0m\n\u001b[1;32m      4\u001b[0m \u001b[0;34m\u001b[0m\u001b[0m\n\u001b[1;32m      5\u001b[0m \u001b[0;34m\u001b[0m\u001b[0m\n",
            "\u001b[0;32m/usr/local/lib/python3.8/dist-packages/pandas/core/generic.py\u001b[0m in \u001b[0;36mastype\u001b[0;34m(self, dtype, copy, errors)\u001b[0m\n\u001b[1;32m   5813\u001b[0m         \u001b[0;32melse\u001b[0m\u001b[0;34m:\u001b[0m\u001b[0;34m\u001b[0m\u001b[0;34m\u001b[0m\u001b[0m\n\u001b[1;32m   5814\u001b[0m             \u001b[0;31m# else, only a single dtype is given\u001b[0m\u001b[0;34m\u001b[0m\u001b[0;34m\u001b[0m\u001b[0;34m\u001b[0m\u001b[0m\n\u001b[0;32m-> 5815\u001b[0;31m             \u001b[0mnew_data\u001b[0m \u001b[0;34m=\u001b[0m \u001b[0mself\u001b[0m\u001b[0;34m.\u001b[0m\u001b[0m_mgr\u001b[0m\u001b[0;34m.\u001b[0m\u001b[0mastype\u001b[0m\u001b[0;34m(\u001b[0m\u001b[0mdtype\u001b[0m\u001b[0;34m=\u001b[0m\u001b[0mdtype\u001b[0m\u001b[0;34m,\u001b[0m \u001b[0mcopy\u001b[0m\u001b[0;34m=\u001b[0m\u001b[0mcopy\u001b[0m\u001b[0;34m,\u001b[0m \u001b[0merrors\u001b[0m\u001b[0;34m=\u001b[0m\u001b[0merrors\u001b[0m\u001b[0;34m)\u001b[0m\u001b[0;34m\u001b[0m\u001b[0;34m\u001b[0m\u001b[0m\n\u001b[0m\u001b[1;32m   5816\u001b[0m             \u001b[0;32mreturn\u001b[0m \u001b[0mself\u001b[0m\u001b[0;34m.\u001b[0m\u001b[0m_constructor\u001b[0m\u001b[0;34m(\u001b[0m\u001b[0mnew_data\u001b[0m\u001b[0;34m)\u001b[0m\u001b[0;34m.\u001b[0m\u001b[0m__finalize__\u001b[0m\u001b[0;34m(\u001b[0m\u001b[0mself\u001b[0m\u001b[0;34m,\u001b[0m \u001b[0mmethod\u001b[0m\u001b[0;34m=\u001b[0m\u001b[0;34m\"astype\"\u001b[0m\u001b[0;34m)\u001b[0m\u001b[0;34m\u001b[0m\u001b[0;34m\u001b[0m\u001b[0m\n\u001b[1;32m   5817\u001b[0m \u001b[0;34m\u001b[0m\u001b[0m\n",
            "\u001b[0;32m/usr/local/lib/python3.8/dist-packages/pandas/core/internals/managers.py\u001b[0m in \u001b[0;36mastype\u001b[0;34m(self, dtype, copy, errors)\u001b[0m\n\u001b[1;32m    416\u001b[0m \u001b[0;34m\u001b[0m\u001b[0m\n\u001b[1;32m    417\u001b[0m     \u001b[0;32mdef\u001b[0m \u001b[0mastype\u001b[0m\u001b[0;34m(\u001b[0m\u001b[0mself\u001b[0m\u001b[0;34m:\u001b[0m \u001b[0mT\u001b[0m\u001b[0;34m,\u001b[0m \u001b[0mdtype\u001b[0m\u001b[0;34m,\u001b[0m \u001b[0mcopy\u001b[0m\u001b[0;34m:\u001b[0m \u001b[0mbool\u001b[0m \u001b[0;34m=\u001b[0m \u001b[0;32mFalse\u001b[0m\u001b[0;34m,\u001b[0m \u001b[0merrors\u001b[0m\u001b[0;34m:\u001b[0m \u001b[0mstr\u001b[0m \u001b[0;34m=\u001b[0m \u001b[0;34m\"raise\"\u001b[0m\u001b[0;34m)\u001b[0m \u001b[0;34m->\u001b[0m \u001b[0mT\u001b[0m\u001b[0;34m:\u001b[0m\u001b[0;34m\u001b[0m\u001b[0;34m\u001b[0m\u001b[0m\n\u001b[0;32m--> 418\u001b[0;31m         \u001b[0;32mreturn\u001b[0m \u001b[0mself\u001b[0m\u001b[0;34m.\u001b[0m\u001b[0mapply\u001b[0m\u001b[0;34m(\u001b[0m\u001b[0;34m\"astype\"\u001b[0m\u001b[0;34m,\u001b[0m \u001b[0mdtype\u001b[0m\u001b[0;34m=\u001b[0m\u001b[0mdtype\u001b[0m\u001b[0;34m,\u001b[0m \u001b[0mcopy\u001b[0m\u001b[0;34m=\u001b[0m\u001b[0mcopy\u001b[0m\u001b[0;34m,\u001b[0m \u001b[0merrors\u001b[0m\u001b[0;34m=\u001b[0m\u001b[0merrors\u001b[0m\u001b[0;34m)\u001b[0m\u001b[0;34m\u001b[0m\u001b[0;34m\u001b[0m\u001b[0m\n\u001b[0m\u001b[1;32m    419\u001b[0m \u001b[0;34m\u001b[0m\u001b[0m\n\u001b[1;32m    420\u001b[0m     def convert(\n",
            "\u001b[0;32m/usr/local/lib/python3.8/dist-packages/pandas/core/internals/managers.py\u001b[0m in \u001b[0;36mapply\u001b[0;34m(self, f, align_keys, ignore_failures, **kwargs)\u001b[0m\n\u001b[1;32m    325\u001b[0m                     \u001b[0mapplied\u001b[0m \u001b[0;34m=\u001b[0m \u001b[0mb\u001b[0m\u001b[0;34m.\u001b[0m\u001b[0mapply\u001b[0m\u001b[0;34m(\u001b[0m\u001b[0mf\u001b[0m\u001b[0;34m,\u001b[0m \u001b[0;34m**\u001b[0m\u001b[0mkwargs\u001b[0m\u001b[0;34m)\u001b[0m\u001b[0;34m\u001b[0m\u001b[0;34m\u001b[0m\u001b[0m\n\u001b[1;32m    326\u001b[0m                 \u001b[0;32melse\u001b[0m\u001b[0;34m:\u001b[0m\u001b[0;34m\u001b[0m\u001b[0;34m\u001b[0m\u001b[0m\n\u001b[0;32m--> 327\u001b[0;31m                     \u001b[0mapplied\u001b[0m \u001b[0;34m=\u001b[0m \u001b[0mgetattr\u001b[0m\u001b[0;34m(\u001b[0m\u001b[0mb\u001b[0m\u001b[0;34m,\u001b[0m \u001b[0mf\u001b[0m\u001b[0;34m)\u001b[0m\u001b[0;34m(\u001b[0m\u001b[0;34m**\u001b[0m\u001b[0mkwargs\u001b[0m\u001b[0;34m)\u001b[0m\u001b[0;34m\u001b[0m\u001b[0;34m\u001b[0m\u001b[0m\n\u001b[0m\u001b[1;32m    328\u001b[0m             \u001b[0;32mexcept\u001b[0m \u001b[0;34m(\u001b[0m\u001b[0mTypeError\u001b[0m\u001b[0;34m,\u001b[0m \u001b[0mNotImplementedError\u001b[0m\u001b[0;34m)\u001b[0m\u001b[0;34m:\u001b[0m\u001b[0;34m\u001b[0m\u001b[0;34m\u001b[0m\u001b[0m\n\u001b[1;32m    329\u001b[0m                 \u001b[0;32mif\u001b[0m \u001b[0;32mnot\u001b[0m \u001b[0mignore_failures\u001b[0m\u001b[0;34m:\u001b[0m\u001b[0;34m\u001b[0m\u001b[0;34m\u001b[0m\u001b[0m\n",
            "\u001b[0;32m/usr/local/lib/python3.8/dist-packages/pandas/core/internals/blocks.py\u001b[0m in \u001b[0;36mastype\u001b[0;34m(self, dtype, copy, errors)\u001b[0m\n\u001b[1;32m    589\u001b[0m         \u001b[0mvalues\u001b[0m \u001b[0;34m=\u001b[0m \u001b[0mself\u001b[0m\u001b[0;34m.\u001b[0m\u001b[0mvalues\u001b[0m\u001b[0;34m\u001b[0m\u001b[0;34m\u001b[0m\u001b[0m\n\u001b[1;32m    590\u001b[0m \u001b[0;34m\u001b[0m\u001b[0m\n\u001b[0;32m--> 591\u001b[0;31m         \u001b[0mnew_values\u001b[0m \u001b[0;34m=\u001b[0m \u001b[0mastype_array_safe\u001b[0m\u001b[0;34m(\u001b[0m\u001b[0mvalues\u001b[0m\u001b[0;34m,\u001b[0m \u001b[0mdtype\u001b[0m\u001b[0;34m,\u001b[0m \u001b[0mcopy\u001b[0m\u001b[0;34m=\u001b[0m\u001b[0mcopy\u001b[0m\u001b[0;34m,\u001b[0m \u001b[0merrors\u001b[0m\u001b[0;34m=\u001b[0m\u001b[0merrors\u001b[0m\u001b[0;34m)\u001b[0m\u001b[0;34m\u001b[0m\u001b[0;34m\u001b[0m\u001b[0m\n\u001b[0m\u001b[1;32m    592\u001b[0m \u001b[0;34m\u001b[0m\u001b[0m\n\u001b[1;32m    593\u001b[0m         \u001b[0mnew_values\u001b[0m \u001b[0;34m=\u001b[0m \u001b[0mmaybe_coerce_values\u001b[0m\u001b[0;34m(\u001b[0m\u001b[0mnew_values\u001b[0m\u001b[0;34m)\u001b[0m\u001b[0;34m\u001b[0m\u001b[0;34m\u001b[0m\u001b[0m\n",
            "\u001b[0;32m/usr/local/lib/python3.8/dist-packages/pandas/core/dtypes/cast.py\u001b[0m in \u001b[0;36mastype_array_safe\u001b[0;34m(values, dtype, copy, errors)\u001b[0m\n\u001b[1;32m   1307\u001b[0m \u001b[0;34m\u001b[0m\u001b[0m\n\u001b[1;32m   1308\u001b[0m     \u001b[0;32mtry\u001b[0m\u001b[0;34m:\u001b[0m\u001b[0;34m\u001b[0m\u001b[0;34m\u001b[0m\u001b[0m\n\u001b[0;32m-> 1309\u001b[0;31m         \u001b[0mnew_values\u001b[0m \u001b[0;34m=\u001b[0m \u001b[0mastype_array\u001b[0m\u001b[0;34m(\u001b[0m\u001b[0mvalues\u001b[0m\u001b[0;34m,\u001b[0m \u001b[0mdtype\u001b[0m\u001b[0;34m,\u001b[0m \u001b[0mcopy\u001b[0m\u001b[0;34m=\u001b[0m\u001b[0mcopy\u001b[0m\u001b[0;34m)\u001b[0m\u001b[0;34m\u001b[0m\u001b[0;34m\u001b[0m\u001b[0m\n\u001b[0m\u001b[1;32m   1310\u001b[0m     \u001b[0;32mexcept\u001b[0m \u001b[0;34m(\u001b[0m\u001b[0mValueError\u001b[0m\u001b[0;34m,\u001b[0m \u001b[0mTypeError\u001b[0m\u001b[0;34m)\u001b[0m\u001b[0;34m:\u001b[0m\u001b[0;34m\u001b[0m\u001b[0;34m\u001b[0m\u001b[0m\n\u001b[1;32m   1311\u001b[0m         \u001b[0;31m# e.g. astype_nansafe can fail on object-dtype of strings\u001b[0m\u001b[0;34m\u001b[0m\u001b[0;34m\u001b[0m\u001b[0;34m\u001b[0m\u001b[0m\n",
            "\u001b[0;32m/usr/local/lib/python3.8/dist-packages/pandas/core/dtypes/cast.py\u001b[0m in \u001b[0;36mastype_array\u001b[0;34m(values, dtype, copy)\u001b[0m\n\u001b[1;32m   1255\u001b[0m \u001b[0;34m\u001b[0m\u001b[0m\n\u001b[1;32m   1256\u001b[0m     \u001b[0;32melse\u001b[0m\u001b[0;34m:\u001b[0m\u001b[0;34m\u001b[0m\u001b[0;34m\u001b[0m\u001b[0m\n\u001b[0;32m-> 1257\u001b[0;31m         \u001b[0mvalues\u001b[0m \u001b[0;34m=\u001b[0m \u001b[0mastype_nansafe\u001b[0m\u001b[0;34m(\u001b[0m\u001b[0mvalues\u001b[0m\u001b[0;34m,\u001b[0m \u001b[0mdtype\u001b[0m\u001b[0;34m,\u001b[0m \u001b[0mcopy\u001b[0m\u001b[0;34m=\u001b[0m\u001b[0mcopy\u001b[0m\u001b[0;34m)\u001b[0m\u001b[0;34m\u001b[0m\u001b[0;34m\u001b[0m\u001b[0m\n\u001b[0m\u001b[1;32m   1258\u001b[0m \u001b[0;34m\u001b[0m\u001b[0m\n\u001b[1;32m   1259\u001b[0m     \u001b[0;31m# in pandas we don't store numpy str dtypes, so convert to object\u001b[0m\u001b[0;34m\u001b[0m\u001b[0;34m\u001b[0m\u001b[0;34m\u001b[0m\u001b[0m\n",
            "\u001b[0;32m/usr/local/lib/python3.8/dist-packages/pandas/core/dtypes/cast.py\u001b[0m in \u001b[0;36mastype_nansafe\u001b[0;34m(arr, dtype, copy, skipna)\u001b[0m\n\u001b[1;32m   1093\u001b[0m     \u001b[0;32mif\u001b[0m \u001b[0marr\u001b[0m\u001b[0;34m.\u001b[0m\u001b[0mndim\u001b[0m \u001b[0;34m>\u001b[0m \u001b[0;36m1\u001b[0m\u001b[0;34m:\u001b[0m\u001b[0;34m\u001b[0m\u001b[0;34m\u001b[0m\u001b[0m\n\u001b[1;32m   1094\u001b[0m         \u001b[0mflat\u001b[0m \u001b[0;34m=\u001b[0m \u001b[0marr\u001b[0m\u001b[0;34m.\u001b[0m\u001b[0mravel\u001b[0m\u001b[0;34m(\u001b[0m\u001b[0;34m)\u001b[0m\u001b[0;34m\u001b[0m\u001b[0;34m\u001b[0m\u001b[0m\n\u001b[0;32m-> 1095\u001b[0;31m         \u001b[0mresult\u001b[0m \u001b[0;34m=\u001b[0m \u001b[0mastype_nansafe\u001b[0m\u001b[0;34m(\u001b[0m\u001b[0mflat\u001b[0m\u001b[0;34m,\u001b[0m \u001b[0mdtype\u001b[0m\u001b[0;34m,\u001b[0m \u001b[0mcopy\u001b[0m\u001b[0;34m=\u001b[0m\u001b[0mcopy\u001b[0m\u001b[0;34m,\u001b[0m \u001b[0mskipna\u001b[0m\u001b[0;34m=\u001b[0m\u001b[0mskipna\u001b[0m\u001b[0;34m)\u001b[0m\u001b[0;34m\u001b[0m\u001b[0;34m\u001b[0m\u001b[0m\n\u001b[0m\u001b[1;32m   1096\u001b[0m         \u001b[0;31m# error: Item \"ExtensionArray\" of \"Union[ExtensionArray, ndarray]\" has no\u001b[0m\u001b[0;34m\u001b[0m\u001b[0;34m\u001b[0m\u001b[0;34m\u001b[0m\u001b[0m\n\u001b[1;32m   1097\u001b[0m         \u001b[0;31m# attribute \"reshape\"\u001b[0m\u001b[0;34m\u001b[0m\u001b[0;34m\u001b[0m\u001b[0;34m\u001b[0m\u001b[0m\n",
            "\u001b[0;32m/usr/local/lib/python3.8/dist-packages/pandas/core/dtypes/cast.py\u001b[0m in \u001b[0;36mastype_nansafe\u001b[0;34m(arr, dtype, copy, skipna)\u001b[0m\n\u001b[1;32m   1199\u001b[0m     \u001b[0;32mif\u001b[0m \u001b[0mcopy\u001b[0m \u001b[0;32mor\u001b[0m \u001b[0mis_object_dtype\u001b[0m\u001b[0;34m(\u001b[0m\u001b[0marr\u001b[0m\u001b[0;34m.\u001b[0m\u001b[0mdtype\u001b[0m\u001b[0;34m)\u001b[0m \u001b[0;32mor\u001b[0m \u001b[0mis_object_dtype\u001b[0m\u001b[0;34m(\u001b[0m\u001b[0mdtype\u001b[0m\u001b[0;34m)\u001b[0m\u001b[0;34m:\u001b[0m\u001b[0;34m\u001b[0m\u001b[0;34m\u001b[0m\u001b[0m\n\u001b[1;32m   1200\u001b[0m         \u001b[0;31m# Explicit copy, or required since NumPy can't view from / to object.\u001b[0m\u001b[0;34m\u001b[0m\u001b[0;34m\u001b[0m\u001b[0;34m\u001b[0m\u001b[0m\n\u001b[0;32m-> 1201\u001b[0;31m         \u001b[0;32mreturn\u001b[0m \u001b[0marr\u001b[0m\u001b[0;34m.\u001b[0m\u001b[0mastype\u001b[0m\u001b[0;34m(\u001b[0m\u001b[0mdtype\u001b[0m\u001b[0;34m,\u001b[0m \u001b[0mcopy\u001b[0m\u001b[0;34m=\u001b[0m\u001b[0;32mTrue\u001b[0m\u001b[0;34m)\u001b[0m\u001b[0;34m\u001b[0m\u001b[0;34m\u001b[0m\u001b[0m\n\u001b[0m\u001b[1;32m   1202\u001b[0m \u001b[0;34m\u001b[0m\u001b[0m\n\u001b[1;32m   1203\u001b[0m     \u001b[0;32mreturn\u001b[0m \u001b[0marr\u001b[0m\u001b[0;34m.\u001b[0m\u001b[0mastype\u001b[0m\u001b[0;34m(\u001b[0m\u001b[0mdtype\u001b[0m\u001b[0;34m,\u001b[0m \u001b[0mcopy\u001b[0m\u001b[0;34m=\u001b[0m\u001b[0mcopy\u001b[0m\u001b[0;34m)\u001b[0m\u001b[0;34m\u001b[0m\u001b[0;34m\u001b[0m\u001b[0m\n",
            "\u001b[0;31mValueError\u001b[0m: could not convert string to float: b'?'"
          ]
        }
      ],
      "source": [
        "NumCol=[\"sg\",\"al\",\"su\"]\n",
        "df[NumCol]=df[NumCol].astype(\"float\")\n",
        "print(len(df.dtypes[\"object\"]))\n",
        "\n",
        "\n",
        "\n"
      ]
    },
    {
      "cell_type": "markdown",
      "id": "069a6300-8dd1-4148-9b1d-56b994fbeb6f",
      "metadata": {
        "id": "069a6300-8dd1-4148-9b1d-56b994fbeb6f"
      },
      "source": [
        "# **II) Transformation:**\n",
        "# 1) Encodage:\n",
        "conversion des features qualitatives Ordinal par des valeurs numeriques:\n",
        "Pour ce faire on utilise le label encoder pour les features dont le type est \"object\"\n",
        "et on applique le fit_transform sur ces colonnes. On obtient au final des features tous avec des valeurs numerique.\n"
      ]
    },
    {
      "cell_type": "code",
      "execution_count": null,
      "id": "96da6510-bce3-43f6-934b-73afe387ff41",
      "metadata": {
        "id": "96da6510-bce3-43f6-934b-73afe387ff41",
        "outputId": "01445408-4f87-44ad-b9d8-2cdcca49726d"
      },
      "outputs": [
        {
          "name": "stdout",
          "output_type": "stream",
          "text": [
            "      age    bp     sg   al   su  rbc  pc  pcc  ba         bgr  ...   pcv  \\\n",
            "0    48.0  80.0  1.020  1.0  0.0    1   1    0   0  121.000000  ...  44.0   \n",
            "1     7.0  50.0  1.020  4.0  0.0    1   1    0   0  148.036517  ...  38.0   \n",
            "2    62.0  80.0  1.010  2.0  3.0    1   1    0   0  423.000000  ...  31.0   \n",
            "3    48.0  70.0  1.005  4.0  0.0    1   0    1   0  117.000000  ...  32.0   \n",
            "4    51.0  80.0  1.010  2.0  0.0    1   1    0   0  106.000000  ...  35.0   \n",
            "..    ...   ...    ...  ...  ...  ...  ..  ...  ..         ...  ...   ...   \n",
            "395  55.0  80.0  1.020  0.0  0.0    1   1    0   0  140.000000  ...  47.0   \n",
            "396  42.0  70.0  1.025  0.0  0.0    1   1    0   0   75.000000  ...  54.0   \n",
            "397  12.0  80.0  1.020  0.0  0.0    1   1    0   0  100.000000  ...  49.0   \n",
            "398  17.0  60.0  1.025  0.0  0.0    1   1    0   0  114.000000  ...  51.0   \n",
            "399  58.0  80.0  1.025  0.0  0.0    1   1    0   0  131.000000  ...  53.0   \n",
            "\n",
            "       wbcc      rbcc  htn  dm  cad  appet  pe  ane  class  \n",
            "0    7800.0  5.200000    1   1    0      0   0    0      0  \n",
            "1    6000.0  4.707435    0   0    0      0   0    0      0  \n",
            "2    7500.0  4.707435    0   1    0      1   0    1      0  \n",
            "3    6700.0  3.900000    1   0    0      1   1    1      0  \n",
            "4    7300.0  4.600000    0   0    0      0   0    0      0  \n",
            "..      ...       ...  ...  ..  ...    ...  ..  ...    ...  \n",
            "395  6700.0  4.900000    0   0    0      0   0    0      1  \n",
            "396  7800.0  6.200000    0   0    0      0   0    0      1  \n",
            "397  6600.0  5.400000    0   0    0      0   0    0      1  \n",
            "398  7200.0  5.900000    0   0    0      0   0    0      1  \n",
            "399  6800.0  6.100000    0   0    0      0   0    0      1  \n",
            "\n",
            "[400 rows x 25 columns]\n"
          ]
        }
      ],
      "source": [
        "colObj=df.dtypes[df.dtypes==\"object\"].index.tolist()\n",
        "encoder = OrdinalEncoder()\n",
        "from sklearn.preprocessing import LabelEncoder\n",
        "\n",
        "le = LabelEncoder()\n",
        "\n",
        "for col in colObj:\n",
        "    df[col] = le.fit_transform(df[col])\n",
        "\n",
        "\n",
        "print(df)\n"
      ]
    },
    {
      "cell_type": "markdown",
      "id": "01e1632e-da6e-4733-a200-ff76a845ab4e",
      "metadata": {
        "id": "01e1632e-da6e-4733-a200-ff76a845ab4e"
      },
      "source": [
        "# 2) Normalisation :\n",
        "\n",
        "Normalisation les valeurs des features pour que tous les features ont les meme poids au entrainemet"
      ]
    },
    {
      "cell_type": "code",
      "execution_count": null,
      "id": "ec0fa86b-2417-4785-bc56-d7870bb80c97",
      "metadata": {
        "id": "ec0fa86b-2417-4785-bc56-d7870bb80c97",
        "outputId": "798f29ce-77a4-43ad-a0b9-5c2589fa7cd3"
      },
      "outputs": [
        {
          "name": "stdout",
          "output_type": "stream",
          "text": [
            "oiiii AxesSubplot(0.125,0.749828;0.133621x0.130172)\n",
            "oiiii AxesSubplot(0.285345,0.749828;0.133621x0.130172)\n"
          ]
        },
        {
          "name": "stderr",
          "output_type": "stream",
          "text": [
            "C:\\Users\\ASUS\\anaconda3\\lib\\site-packages\\seaborn\\distributions.py:2619: FutureWarning: `distplot` is a deprecated function and will be removed in a future version. Please adapt your code to use either `displot` (a figure-level function with similar flexibility) or `histplot` (an axes-level function for histograms).\n",
            "  warnings.warn(msg, FutureWarning)\n",
            "C:\\Users\\ASUS\\anaconda3\\lib\\site-packages\\seaborn\\distributions.py:2619: FutureWarning: `distplot` is a deprecated function and will be removed in a future version. Please adapt your code to use either `displot` (a figure-level function with similar flexibility) or `histplot` (an axes-level function for histograms).\n",
            "  warnings.warn(msg, FutureWarning)\n"
          ]
        },
        {
          "name": "stdout",
          "output_type": "stream",
          "text": [
            "oiiii AxesSubplot(0.44569,0.749828;0.133621x0.130172)\n",
            "oiiii AxesSubplot(0.606034,0.749828;0.133621x0.130172)\n",
            "oiiii AxesSubplot(0.766379,0.749828;0.133621x0.130172)\n"
          ]
        },
        {
          "name": "stderr",
          "output_type": "stream",
          "text": [
            "C:\\Users\\ASUS\\anaconda3\\lib\\site-packages\\seaborn\\distributions.py:2619: FutureWarning: `distplot` is a deprecated function and will be removed in a future version. Please adapt your code to use either `displot` (a figure-level function with similar flexibility) or `histplot` (an axes-level function for histograms).\n",
            "  warnings.warn(msg, FutureWarning)\n",
            "C:\\Users\\ASUS\\anaconda3\\lib\\site-packages\\seaborn\\distributions.py:2619: FutureWarning: `distplot` is a deprecated function and will be removed in a future version. Please adapt your code to use either `displot` (a figure-level function with similar flexibility) or `histplot` (an axes-level function for histograms).\n",
            "  warnings.warn(msg, FutureWarning)\n",
            "C:\\Users\\ASUS\\anaconda3\\lib\\site-packages\\seaborn\\distributions.py:2619: FutureWarning: `distplot` is a deprecated function and will be removed in a future version. Please adapt your code to use either `displot` (a figure-level function with similar flexibility) or `histplot` (an axes-level function for histograms).\n",
            "  warnings.warn(msg, FutureWarning)\n",
            "C:\\Users\\ASUS\\anaconda3\\lib\\site-packages\\seaborn\\distributions.py:2619: FutureWarning: `distplot` is a deprecated function and will be removed in a future version. Please adapt your code to use either `displot` (a figure-level function with similar flexibility) or `histplot` (an axes-level function for histograms).\n",
            "  warnings.warn(msg, FutureWarning)\n"
          ]
        },
        {
          "name": "stdout",
          "output_type": "stream",
          "text": [
            "oiiii AxesSubplot(0.125,0.593621;0.133621x0.130172)\n",
            "oiiii AxesSubplot(0.285345,0.593621;0.133621x0.130172)\n",
            "oiiii AxesSubplot(0.44569,0.593621;0.133621x0.130172)\n"
          ]
        },
        {
          "name": "stderr",
          "output_type": "stream",
          "text": [
            "C:\\Users\\ASUS\\anaconda3\\lib\\site-packages\\seaborn\\distributions.py:2619: FutureWarning: `distplot` is a deprecated function and will be removed in a future version. Please adapt your code to use either `displot` (a figure-level function with similar flexibility) or `histplot` (an axes-level function for histograms).\n",
            "  warnings.warn(msg, FutureWarning)\n",
            "C:\\Users\\ASUS\\anaconda3\\lib\\site-packages\\seaborn\\distributions.py:2619: FutureWarning: `distplot` is a deprecated function and will be removed in a future version. Please adapt your code to use either `displot` (a figure-level function with similar flexibility) or `histplot` (an axes-level function for histograms).\n",
            "  warnings.warn(msg, FutureWarning)\n",
            "C:\\Users\\ASUS\\anaconda3\\lib\\site-packages\\seaborn\\distributions.py:2619: FutureWarning: `distplot` is a deprecated function and will be removed in a future version. Please adapt your code to use either `displot` (a figure-level function with similar flexibility) or `histplot` (an axes-level function for histograms).\n",
            "  warnings.warn(msg, FutureWarning)\n"
          ]
        },
        {
          "name": "stdout",
          "output_type": "stream",
          "text": [
            "oiiii AxesSubplot(0.606034,0.593621;0.133621x0.130172)\n",
            "oiiii AxesSubplot(0.766379,0.593621;0.133621x0.130172)\n",
            "oiiii AxesSubplot(0.125,0.437414;0.133621x0.130172)\n"
          ]
        },
        {
          "name": "stderr",
          "output_type": "stream",
          "text": [
            "C:\\Users\\ASUS\\anaconda3\\lib\\site-packages\\seaborn\\distributions.py:2619: FutureWarning: `distplot` is a deprecated function and will be removed in a future version. Please adapt your code to use either `displot` (a figure-level function with similar flexibility) or `histplot` (an axes-level function for histograms).\n",
            "  warnings.warn(msg, FutureWarning)\n",
            "C:\\Users\\ASUS\\anaconda3\\lib\\site-packages\\seaborn\\distributions.py:2619: FutureWarning: `distplot` is a deprecated function and will be removed in a future version. Please adapt your code to use either `displot` (a figure-level function with similar flexibility) or `histplot` (an axes-level function for histograms).\n",
            "  warnings.warn(msg, FutureWarning)\n"
          ]
        },
        {
          "name": "stdout",
          "output_type": "stream",
          "text": [
            "oiiii AxesSubplot(0.285345,0.437414;0.133621x0.130172)\n",
            "oiiii AxesSubplot(0.44569,0.437414;0.133621x0.130172)\n",
            "oiiii AxesSubplot(0.606034,0.437414;0.133621x0.130172)\n"
          ]
        },
        {
          "name": "stderr",
          "output_type": "stream",
          "text": [
            "C:\\Users\\ASUS\\anaconda3\\lib\\site-packages\\seaborn\\distributions.py:2619: FutureWarning: `distplot` is a deprecated function and will be removed in a future version. Please adapt your code to use either `displot` (a figure-level function with similar flexibility) or `histplot` (an axes-level function for histograms).\n",
            "  warnings.warn(msg, FutureWarning)\n",
            "C:\\Users\\ASUS\\anaconda3\\lib\\site-packages\\seaborn\\distributions.py:2619: FutureWarning: `distplot` is a deprecated function and will be removed in a future version. Please adapt your code to use either `displot` (a figure-level function with similar flexibility) or `histplot` (an axes-level function for histograms).\n",
            "  warnings.warn(msg, FutureWarning)\n",
            "C:\\Users\\ASUS\\anaconda3\\lib\\site-packages\\seaborn\\distributions.py:2619: FutureWarning: `distplot` is a deprecated function and will be removed in a future version. Please adapt your code to use either `displot` (a figure-level function with similar flexibility) or `histplot` (an axes-level function for histograms).\n",
            "  warnings.warn(msg, FutureWarning)\n"
          ]
        },
        {
          "name": "stdout",
          "output_type": "stream",
          "text": [
            "oiiii AxesSubplot(0.766379,0.437414;0.133621x0.130172)\n",
            "oiiii AxesSubplot(0.125,0.281207;0.133621x0.130172)\n",
            "oiiii AxesSubplot(0.285345,0.281207;0.133621x0.130172)\n"
          ]
        },
        {
          "name": "stderr",
          "output_type": "stream",
          "text": [
            "C:\\Users\\ASUS\\anaconda3\\lib\\site-packages\\seaborn\\distributions.py:2619: FutureWarning: `distplot` is a deprecated function and will be removed in a future version. Please adapt your code to use either `displot` (a figure-level function with similar flexibility) or `histplot` (an axes-level function for histograms).\n",
            "  warnings.warn(msg, FutureWarning)\n",
            "C:\\Users\\ASUS\\anaconda3\\lib\\site-packages\\seaborn\\distributions.py:2619: FutureWarning: `distplot` is a deprecated function and will be removed in a future version. Please adapt your code to use either `displot` (a figure-level function with similar flexibility) or `histplot` (an axes-level function for histograms).\n",
            "  warnings.warn(msg, FutureWarning)\n",
            "C:\\Users\\ASUS\\anaconda3\\lib\\site-packages\\seaborn\\distributions.py:2619: FutureWarning: `distplot` is a deprecated function and will be removed in a future version. Please adapt your code to use either `displot` (a figure-level function with similar flexibility) or `histplot` (an axes-level function for histograms).\n",
            "  warnings.warn(msg, FutureWarning)\n"
          ]
        },
        {
          "name": "stdout",
          "output_type": "stream",
          "text": [
            "oiiii AxesSubplot(0.44569,0.281207;0.133621x0.130172)\n",
            "oiiii AxesSubplot(0.606034,0.281207;0.133621x0.130172)\n",
            "oiiii AxesSubplot(0.766379,0.281207;0.133621x0.130172)\n"
          ]
        },
        {
          "name": "stderr",
          "output_type": "stream",
          "text": [
            "C:\\Users\\ASUS\\anaconda3\\lib\\site-packages\\seaborn\\distributions.py:2619: FutureWarning: `distplot` is a deprecated function and will be removed in a future version. Please adapt your code to use either `displot` (a figure-level function with similar flexibility) or `histplot` (an axes-level function for histograms).\n",
            "  warnings.warn(msg, FutureWarning)\n",
            "C:\\Users\\ASUS\\anaconda3\\lib\\site-packages\\seaborn\\distributions.py:2619: FutureWarning: `distplot` is a deprecated function and will be removed in a future version. Please adapt your code to use either `displot` (a figure-level function with similar flexibility) or `histplot` (an axes-level function for histograms).\n",
            "  warnings.warn(msg, FutureWarning)\n",
            "C:\\Users\\ASUS\\anaconda3\\lib\\site-packages\\seaborn\\distributions.py:2619: FutureWarning: `distplot` is a deprecated function and will be removed in a future version. Please adapt your code to use either `displot` (a figure-level function with similar flexibility) or `histplot` (an axes-level function for histograms).\n",
            "  warnings.warn(msg, FutureWarning)\n"
          ]
        },
        {
          "name": "stdout",
          "output_type": "stream",
          "text": [
            "oiiii AxesSubplot(0.125,0.125;0.133621x0.130172)\n",
            "oiiii AxesSubplot(0.285345,0.125;0.133621x0.130172)\n",
            "oiiii AxesSubplot(0.44569,0.125;0.133621x0.130172)\n"
          ]
        },
        {
          "name": "stderr",
          "output_type": "stream",
          "text": [
            "C:\\Users\\ASUS\\anaconda3\\lib\\site-packages\\seaborn\\distributions.py:2619: FutureWarning: `distplot` is a deprecated function and will be removed in a future version. Please adapt your code to use either `displot` (a figure-level function with similar flexibility) or `histplot` (an axes-level function for histograms).\n",
            "  warnings.warn(msg, FutureWarning)\n",
            "C:\\Users\\ASUS\\anaconda3\\lib\\site-packages\\seaborn\\distributions.py:2619: FutureWarning: `distplot` is a deprecated function and will be removed in a future version. Please adapt your code to use either `displot` (a figure-level function with similar flexibility) or `histplot` (an axes-level function for histograms).\n",
            "  warnings.warn(msg, FutureWarning)\n",
            "C:\\Users\\ASUS\\anaconda3\\lib\\site-packages\\seaborn\\distributions.py:2619: FutureWarning: `distplot` is a deprecated function and will be removed in a future version. Please adapt your code to use either `displot` (a figure-level function with similar flexibility) or `histplot` (an axes-level function for histograms).\n",
            "  warnings.warn(msg, FutureWarning)\n"
          ]
        },
        {
          "name": "stdout",
          "output_type": "stream",
          "text": [
            "oiiii AxesSubplot(0.606034,0.125;0.133621x0.130172)\n",
            "oiiii AxesSubplot(0.766379,0.125;0.133621x0.130172)\n"
          ]
        },
        {
          "name": "stderr",
          "output_type": "stream",
          "text": [
            "C:\\Users\\ASUS\\anaconda3\\lib\\site-packages\\seaborn\\distributions.py:2619: FutureWarning: `distplot` is a deprecated function and will be removed in a future version. Please adapt your code to use either `displot` (a figure-level function with similar flexibility) or `histplot` (an axes-level function for histograms).\n",
            "  warnings.warn(msg, FutureWarning)\n",
            "C:\\Users\\ASUS\\anaconda3\\lib\\site-packages\\seaborn\\distributions.py:2619: FutureWarning: `distplot` is a deprecated function and will be removed in a future version. Please adapt your code to use either `displot` (a figure-level function with similar flexibility) or `histplot` (an axes-level function for histograms).\n",
            "  warnings.warn(msg, FutureWarning)\n"
          ]
        },
        {
          "data": {
            "image/png": "[encoded data removed]",
            "text/plain": [
              "<Figure size 1080x1080 with 25 Axes>"
            ]
          },
          "metadata": {
            "needs_background": "light"
          },
          "output_type": "display_data"
        }
      ],
      "source": [
        "\n",
        "fig, axes = plt.subplots(nrows=5, ncols=5, figsize=(15,15))\n",
        "fig.suptitle(\"graphique de distribution de variable \")\n",
        "for col,ao in zip(df.columns.tolist(),axes.flatten()):\n",
        "    print(\"oiiii\",ao)\n",
        "    sns.distplot(a=df[col],ax=ao)"
      ]
    },
    {
      "cell_type": "markdown",
      "id": "LxcKNFVp3tqo",
      "metadata": {
        "id": "LxcKNFVp3tqo"
      },
      "source": [
        "# 3)Scaling :\n",
        "* Il s'agit d'une Mise à l'échelle Cela aide essentiellement à normaliser les données dans une plage particulière, Pour accélérer les calculs.\n",
        "* Elle supprime la moyenne et adapte chaque caractéristique/variable à la variance unitaire. Cette opération est effectuée par fonctionnalité de manière indépendante"
      ]
    },
    {
      "cell_type": "code",
      "execution_count": null,
      "id": "9d29a1ad-572f-4b5e-b529-f9fc25984705",
      "metadata": {
        "id": "9d29a1ad-572f-4b5e-b529-f9fc25984705",
        "outputId": "ebb4a0f4-78c9-4305-e4d8-6f94ac386582"
      },
      "outputs": [
        {
          "data": {
            "text/html": [
              "<div>\n",
              "<style scoped>\n",
              "    .dataframe tbody tr th:only-of-type {\n",
              "        vertical-align: middle;\n",
              "    }\n",
              "\n",
              "    .dataframe tbody tr th {\n",
              "        vertical-align: top;\n",
              "    }\n",
              "\n",
              "    .dataframe thead th {\n",
              "        text-align: right;\n",
              "    }\n",
              "</style>\n",
              "<table border=\"1\" class=\"dataframe\">\n",
              "  <thead>\n",
              "    <tr style=\"text-align: right;\">\n",
              "      <th></th>\n",
              "      <th>age</th>\n",
              "      <th>bp</th>\n",
              "      <th>sg</th>\n",
              "      <th>al</th>\n",
              "      <th>su</th>\n",
              "      <th>rbc</th>\n",
              "      <th>pc</th>\n",
              "      <th>pcc</th>\n",
              "      <th>ba</th>\n",
              "      <th>bgr</th>\n",
              "      <th>...</th>\n",
              "      <th>pcv</th>\n",
              "      <th>wbcc</th>\n",
              "      <th>rbcc</th>\n",
              "      <th>htn</th>\n",
              "      <th>dm</th>\n",
              "      <th>cad</th>\n",
              "      <th>appet</th>\n",
              "      <th>pe</th>\n",
              "      <th>ane</th>\n",
              "      <th>class</th>\n",
              "    </tr>\n",
              "  </thead>\n",
              "  <tbody>\n",
              "    <tr>\n",
              "      <th>count</th>\n",
              "      <td>4.000000e+02</td>\n",
              "      <td>4.000000e+02</td>\n",
              "      <td>400.000000</td>\n",
              "      <td>400.00000</td>\n",
              "      <td>4.000000e+02</td>\n",
              "      <td>400.000000</td>\n",
              "      <td>400.000000</td>\n",
              "      <td>400.000000</td>\n",
              "      <td>400.000000</td>\n",
              "      <td>4.000000e+02</td>\n",
              "      <td>...</td>\n",
              "      <td>4.000000e+02</td>\n",
              "      <td>4.000000e+02</td>\n",
              "      <td>4.000000e+02</td>\n",
              "      <td>400.000000</td>\n",
              "      <td>400.00000</td>\n",
              "      <td>400.000000</td>\n",
              "      <td>400.000000</td>\n",
              "      <td>400.000000</td>\n",
              "      <td>400.000000</td>\n",
              "      <td>400.000000</td>\n",
              "    </tr>\n",
              "    <tr>\n",
              "      <th>mean</th>\n",
              "      <td>-7.827072e-17</td>\n",
              "      <td>-5.101475e-16</td>\n",
              "      <td>1.017712</td>\n",
              "      <td>0.90000</td>\n",
              "      <td>-2.456368e-16</td>\n",
              "      <td>0.882500</td>\n",
              "      <td>0.810000</td>\n",
              "      <td>0.105000</td>\n",
              "      <td>0.055000</td>\n",
              "      <td>5.384582e-17</td>\n",
              "      <td>...</td>\n",
              "      <td>-1.593170e-16</td>\n",
              "      <td>6.661338e-18</td>\n",
              "      <td>0.000000e+00</td>\n",
              "      <td>0.367500</td>\n",
              "      <td>0.34250</td>\n",
              "      <td>0.085000</td>\n",
              "      <td>0.205000</td>\n",
              "      <td>0.190000</td>\n",
              "      <td>0.150000</td>\n",
              "      <td>0.375000</td>\n",
              "    </tr>\n",
              "    <tr>\n",
              "      <th>std</th>\n",
              "      <td>1.001252e+00</td>\n",
              "      <td>1.001252e+00</td>\n",
              "      <td>0.005434</td>\n",
              "      <td>1.31313</td>\n",
              "      <td>1.001252e+00</td>\n",
              "      <td>0.322418</td>\n",
              "      <td>0.392792</td>\n",
              "      <td>0.306937</td>\n",
              "      <td>0.228266</td>\n",
              "      <td>1.001252e+00</td>\n",
              "      <td>...</td>\n",
              "      <td>1.001252e+00</td>\n",
              "      <td>1.001252e+00</td>\n",
              "      <td>1.001252e+00</td>\n",
              "      <td>0.482728</td>\n",
              "      <td>0.47514</td>\n",
              "      <td>0.279231</td>\n",
              "      <td>0.404207</td>\n",
              "      <td>0.392792</td>\n",
              "      <td>0.357519</td>\n",
              "      <td>0.484729</td>\n",
              "    </tr>\n",
              "    <tr>\n",
              "      <th>min</th>\n",
              "      <td>-2.918730e+00</td>\n",
              "      <td>-1.966580e+00</td>\n",
              "      <td>1.005000</td>\n",
              "      <td>0.00000</td>\n",
              "      <td>-3.802694e-01</td>\n",
              "      <td>0.000000</td>\n",
              "      <td>0.000000</td>\n",
              "      <td>0.000000</td>\n",
              "      <td>0.000000</td>\n",
              "      <td>-1.687482e+00</td>\n",
              "      <td>...</td>\n",
              "      <td>-3.670915e+00</td>\n",
              "      <td>-2.462684e+00</td>\n",
              "      <td>-3.106814e+00</td>\n",
              "      <td>0.000000</td>\n",
              "      <td>0.00000</td>\n",
              "      <td>0.000000</td>\n",
              "      <td>0.000000</td>\n",
              "      <td>0.000000</td>\n",
              "      <td>0.000000</td>\n",
              "      <td>0.000000</td>\n",
              "    </tr>\n",
              "    <tr>\n",
              "      <th>25%</th>\n",
              "      <td>-5.593680e-01</td>\n",
              "      <td>-4.806345e-01</td>\n",
              "      <td>1.015000</td>\n",
              "      <td>0.00000</td>\n",
              "      <td>-3.802694e-01</td>\n",
              "      <td>1.000000</td>\n",
              "      <td>1.000000</td>\n",
              "      <td>0.000000</td>\n",
              "      <td>0.000000</td>\n",
              "      <td>-6.297642e-01</td>\n",
              "      <td>...</td>\n",
              "      <td>-5.999959e-01</td>\n",
              "      <td>-5.678913e-01</td>\n",
              "      <td>-2.471631e-01</td>\n",
              "      <td>0.000000</td>\n",
              "      <td>0.00000</td>\n",
              "      <td>0.000000</td>\n",
              "      <td>0.000000</td>\n",
              "      <td>0.000000</td>\n",
              "      <td>0.000000</td>\n",
              "      <td>0.000000</td>\n",
              "    </tr>\n",
              "    <tr>\n",
              "      <th>50%</th>\n",
              "      <td>1.484407e-01</td>\n",
              "      <td>1.311692e-01</td>\n",
              "      <td>1.020000</td>\n",
              "      <td>0.00000</td>\n",
              "      <td>-3.802694e-01</td>\n",
              "      <td>1.000000</td>\n",
              "      <td>1.000000</td>\n",
              "      <td>0.000000</td>\n",
              "      <td>0.000000</td>\n",
              "      <td>-2.950433e-01</td>\n",
              "      <td>...</td>\n",
              "      <td>-1.065814e-16</td>\n",
              "      <td>-1.243450e-16</td>\n",
              "      <td>6.319578e-16</td>\n",
              "      <td>0.000000</td>\n",
              "      <td>0.00000</td>\n",
              "      <td>0.000000</td>\n",
              "      <td>0.000000</td>\n",
              "      <td>0.000000</td>\n",
              "      <td>0.000000</td>\n",
              "      <td>0.000000</td>\n",
              "    </tr>\n",
              "    <tr>\n",
              "      <th>75%</th>\n",
              "      <td>7.382812e-01</td>\n",
              "      <td>2.623384e-01</td>\n",
              "      <td>1.020000</td>\n",
              "      <td>2.00000</td>\n",
              "      <td>-3.802694e-01</td>\n",
              "      <td>1.000000</td>\n",
              "      <td>1.000000</td>\n",
              "      <td>0.000000</td>\n",
              "      <td>0.000000</td>\n",
              "      <td>2.628875e-02</td>\n",
              "      <td>...</td>\n",
              "      <td>6.283716e-01</td>\n",
              "      <td>3.943858e-01</td>\n",
              "      <td>4.677496e-01</td>\n",
              "      <td>1.000000</td>\n",
              "      <td>1.00000</td>\n",
              "      <td>0.000000</td>\n",
              "      <td>0.000000</td>\n",
              "      <td>0.000000</td>\n",
              "      <td>0.000000</td>\n",
              "      <td>1.000000</td>\n",
              "    </tr>\n",
              "    <tr>\n",
              "      <th>max</th>\n",
              "      <td>2.271867e+00</td>\n",
              "      <td>7.692067e+00</td>\n",
              "      <td>1.025000</td>\n",
              "      <td>5.00000</td>\n",
              "      <td>4.433268e+00</td>\n",
              "      <td>1.000000</td>\n",
              "      <td>1.000000</td>\n",
              "      <td>1.000000</td>\n",
              "      <td>1.000000</td>\n",
              "      <td>4.578493e+00</td>\n",
              "      <td>...</td>\n",
              "      <td>1.856739e+00</td>\n",
              "      <td>7.140246e+00</td>\n",
              "      <td>3.923161e+00</td>\n",
              "      <td>1.000000</td>\n",
              "      <td>1.00000</td>\n",
              "      <td>1.000000</td>\n",
              "      <td>1.000000</td>\n",
              "      <td>1.000000</td>\n",
              "      <td>1.000000</td>\n",
              "      <td>1.000000</td>\n",
              "    </tr>\n",
              "  </tbody>\n",
              "</table>\n",
              "<p>8 rows × 25 columns</p>\n",
              "</div>"
            ],
            "text/plain": [
              "                age            bp          sg         al            su  \\\n",
              "count  4.000000e+02  4.000000e+02  400.000000  400.00000  4.000000e+02   \n",
              "mean  -7.827072e-17 -5.101475e-16    1.017712    0.90000 -2.456368e-16   \n",
              "std    1.001252e+00  1.001252e+00    0.005434    1.31313  1.001252e+00   \n",
              "min   -2.918730e+00 -1.966580e+00    1.005000    0.00000 -3.802694e-01   \n",
              "25%   -5.593680e-01 -4.806345e-01    1.015000    0.00000 -3.802694e-01   \n",
              "50%    1.484407e-01  1.311692e-01    1.020000    0.00000 -3.802694e-01   \n",
              "75%    7.382812e-01  2.623384e-01    1.020000    2.00000 -3.802694e-01   \n",
              "max    2.271867e+00  7.692067e+00    1.025000    5.00000  4.433268e+00   \n",
              "\n",
              "              rbc          pc         pcc          ba           bgr  ...  \\\n",
              "count  400.000000  400.000000  400.000000  400.000000  4.000000e+02  ...   \n",
              "mean     0.882500    0.810000    0.105000    0.055000  5.384582e-17  ...   \n",
              "std      0.322418    0.392792    0.306937    0.228266  1.001252e+00  ...   \n",
              "min      0.000000    0.000000    0.000000    0.000000 -1.687482e+00  ...   \n",
              "25%      1.000000    1.000000    0.000000    0.000000 -6.297642e-01  ...   \n",
              "50%      1.000000    1.000000    0.000000    0.000000 -2.950433e-01  ...   \n",
              "75%      1.000000    1.000000    0.000000    0.000000  2.628875e-02  ...   \n",
              "max      1.000000    1.000000    1.000000    1.000000  4.578493e+00  ...   \n",
              "\n",
              "                pcv          wbcc          rbcc         htn         dm  \\\n",
              "count  4.000000e+02  4.000000e+02  4.000000e+02  400.000000  400.00000   \n",
              "mean  -1.593170e-16  6.661338e-18  0.000000e+00    0.367500    0.34250   \n",
              "std    1.001252e+00  1.001252e+00  1.001252e+00    0.482728    0.47514   \n",
              "min   -3.670915e+00 -2.462684e+00 -3.106814e+00    0.000000    0.00000   \n",
              "25%   -5.999959e-01 -5.678913e-01 -2.471631e-01    0.000000    0.00000   \n",
              "50%   -1.065814e-16 -1.243450e-16  6.319578e-16    0.000000    0.00000   \n",
              "75%    6.283716e-01  3.943858e-01  4.677496e-01    1.000000    1.00000   \n",
              "max    1.856739e+00  7.140246e+00  3.923161e+00    1.000000    1.00000   \n",
              "\n",
              "              cad       appet          pe         ane       class  \n",
              "count  400.000000  400.000000  400.000000  400.000000  400.000000  \n",
              "mean     0.085000    0.205000    0.190000    0.150000    0.375000  \n",
              "std      0.279231    0.404207    0.392792    0.357519    0.484729  \n",
              "min      0.000000    0.000000    0.000000    0.000000    0.000000  \n",
              "25%      0.000000    0.000000    0.000000    0.000000    0.000000  \n",
              "50%      0.000000    0.000000    0.000000    0.000000    0.000000  \n",
              "75%      0.000000    0.000000    0.000000    0.000000    1.000000  \n",
              "max      1.000000    1.000000    1.000000    1.000000    1.000000  \n",
              "\n",
              "[8 rows x 25 columns]"
            ]
          },
          "execution_count": 210,
          "metadata": {},
          "output_type": "execute_result"
        }
      ],
      "source": [
        "\n",
        "df[[\"age\",\"su\",\"bgr\",\"bu\",\"sc\",\"sod\",\"pot\",\"hemo\",\"pcv\",\"wbcc\",\"rbcc\",\"bp\"]]=StandardScaler().fit_transform(df[[\"age\",\"su\",\"bgr\",\"bu\",\"sc\",\"sod\",\"pot\",\"hemo\",\"pcv\",\"wbcc\",\"rbcc\",\"bp\"]])\n",
        "df.describe()"
      ]
    },
    {
      "cell_type": "markdown",
      "id": "46c50c5c-4dec-4f75-8ce9-2d3d255e1751",
      "metadata": {
        "id": "46c50c5c-4dec-4f75-8ce9-2d3d255e1751"
      },
      "source": [
        "# **III) Réduction de la dimension :**\n",
        "# 1)Feature selection :\n",
        "On selectionne les feautres les plus importants pour l' entrainement de notre model on a Utilisé la methode RFE\n",
        "\n",
        "Puisque on ne connait pas  en avance le nombre des features a selectioné on utilise RFECV"
      ]
    },
    {
      "cell_type": "code",
      "execution_count": null,
      "id": "cea70a1d-48df-4a83-9a3c-49b9f90c8ccc",
      "metadata": {
        "id": "cea70a1d-48df-4a83-9a3c-49b9f90c8ccc"
      },
      "outputs": [],
      "source": [
        "\n",
        "clf = svm.SVC(kernel=\"linear\")\n",
        "sel1=RFECV(estimator=clf,step=1,cv=5)\n",
        "sel2=sel1.fit(df.iloc[:,0:-1],df.iloc[:,-1])\n",
        "\n"
      ]
    },
    {
      "cell_type": "markdown",
      "id": "bef78022-bf0f-4e50-b0f6-42917731a8cd",
      "metadata": {
        "id": "bef78022-bf0f-4e50-b0f6-42917731a8cd"
      },
      "source": [
        "eliminer les features qu'ils ne sont pas choisies par RFE"
      ]
    },
    {
      "cell_type": "code",
      "execution_count": null,
      "id": "38ecd513-8d58-480f-ab76-1df8e6b92be7",
      "metadata": {
        "id": "38ecd513-8d58-480f-ab76-1df8e6b92be7",
        "outputId": "4a13ed11-3d77-4510-cc11-9754d516cc43"
      },
      "outputs": [
        {
          "name": "stdout",
          "output_type": "stream",
          "text": [
            "            age        bp        sg        al        su       rbc        pc  \\\n",
            "age    1.000000  0.148004 -0.159073  0.084416  0.187615 -0.011783 -0.101951   \n",
            "bp     0.148004  1.000000 -0.164422  0.122541  0.190218 -0.151369 -0.156856   \n",
            "sg    -0.159073 -0.164422  1.000000 -0.479962 -0.292053  0.253894  0.365353   \n",
            "al     0.084416  0.122541 -0.479962  1.000000  0.287751 -0.394844 -0.561713   \n",
            "su     0.187615  0.190218 -0.292053  0.287751  1.000000 -0.092940 -0.190062   \n",
            "rbc   -0.011783 -0.151369  0.253894 -0.394844 -0.092940  1.000000  0.377394   \n",
            "pc    -0.101951 -0.156856  0.365353 -0.561713 -0.190062  0.377394  1.000000   \n",
            "pcc    0.159074  0.059560 -0.306426  0.417868  0.168091 -0.102948 -0.520118   \n",
            "ba     0.043573  0.112173 -0.231704  0.377935  0.119399 -0.184402 -0.330401   \n",
            "bgr    0.214410  0.149100 -0.317893  0.310481  0.629809 -0.153076 -0.262259   \n",
            "bu     0.187544  0.183970 -0.249370  0.346935  0.126043 -0.236322 -0.344048   \n",
            "sc     0.127316  0.144359 -0.176146  0.160252  0.094565 -0.138394 -0.157896   \n",
            "sod   -0.085949 -0.103220  0.217473 -0.228076 -0.053452  0.140572  0.173323   \n",
            "pot    0.050148  0.066648 -0.063324  0.111614  0.180067  0.018192 -0.158750   \n",
            "hemo  -0.175380 -0.279535  0.492143 -0.474211 -0.156876  0.280990  0.411500   \n",
            "pcv   -0.211805 -0.292714  0.501064 -0.475165 -0.181518  0.280958  0.418580   \n",
            "wbcc   0.100061  0.026067 -0.206884  0.207303  0.159034 -0.002207 -0.107886   \n",
            "rbcc  -0.201051 -0.220822  0.443741 -0.411122 -0.163871  0.202455  0.383240   \n",
            "htn    0.393440  0.270447 -0.323643  0.406057  0.254268 -0.140538 -0.291719   \n",
            "dm     0.363475  0.228250 -0.351016  0.308101  0.430514 -0.145646 -0.201032   \n",
            "cad    0.232951  0.086618 -0.135814  0.200957  0.229301 -0.111493 -0.172295   \n",
            "appet  0.157741  0.177601 -0.230975  0.303145  0.069216 -0.160868 -0.274985   \n",
            "pe     0.094434  0.054083 -0.253803  0.411080  0.116442 -0.199285 -0.350227   \n",
            "ane    0.050567  0.194962 -0.184155  0.229556  0.042464 -0.107625 -0.260566   \n",
            "class -0.225405 -0.290600  0.659504 -0.531562 -0.294555  0.282642  0.375154   \n",
            "\n",
            "            pcc        ba       bgr  ...       pcv      wbcc      rbcc  \\\n",
            "age    0.159074  0.043573  0.214410  ... -0.211805  0.100061 -0.201051   \n",
            "bp     0.059560  0.112173  0.149100  ... -0.292714  0.026067 -0.220822   \n",
            "sg    -0.306426 -0.231704 -0.317893  ...  0.501064 -0.206884  0.443741   \n",
            "al     0.417868  0.377935  0.310481  ... -0.475165  0.207303 -0.411122   \n",
            "su     0.168091  0.119399  0.629809  ... -0.181518  0.159034 -0.163871   \n",
            "rbc   -0.102948 -0.184402 -0.153076  ...  0.280958 -0.002207  0.202455   \n",
            "pc    -0.520118 -0.330401 -0.262259  ...  0.418580 -0.107886  0.383240   \n",
            "pcc    1.000000  0.275082  0.197593  ... -0.294242  0.163456 -0.267982   \n",
            "ba     0.275082  1.000000  0.085940  ... -0.189822  0.103546 -0.192222   \n",
            "bgr    0.197593  0.085940  1.000000  ... -0.267580  0.121371 -0.222568   \n",
            "bu     0.184415  0.158444  0.127489  ... -0.525982  0.041510 -0.465930   \n",
            "sc     0.049940  0.050830  0.082242  ... -0.341853 -0.005420 -0.323146   \n",
            "sod   -0.142135 -0.081733 -0.154393  ...  0.346817  0.006334  0.316956   \n",
            "pot   -0.006316 -0.002688  0.056695  ... -0.123264 -0.074048 -0.120456   \n",
            "hemo  -0.275763 -0.204954 -0.269149  ...  0.854962 -0.153818  0.682257   \n",
            "pcv   -0.294242 -0.189822 -0.267580  ...  1.000000 -0.183396  0.703618   \n",
            "wbcc   0.163456  0.103546  0.121371  ... -0.183396  1.000000 -0.151360   \n",
            "rbcc  -0.267982 -0.192222 -0.222568  ...  0.703618 -0.151360  1.000000   \n",
            "htn    0.195623  0.089046  0.369849  ... -0.572223  0.122173 -0.528346   \n",
            "dm     0.165236  0.080070  0.500618  ... -0.454699  0.152696 -0.421980   \n",
            "cad    0.188029  0.162395  0.212433  ... -0.294597  0.008370 -0.295561   \n",
            "appet  0.189688  0.149126  0.176132  ... -0.391224  0.149332 -0.398133   \n",
            "pe     0.104356  0.134732  0.101502  ... -0.394946  0.135872 -0.338635   \n",
            "ane    0.175861  0.052208  0.126854  ... -0.514491  0.036514 -0.397659   \n",
            "class -0.265313 -0.186871 -0.401374  ...  0.690060 -0.205274  0.590913   \n",
            "\n",
            "            htn        dm       cad     appet        pe       ane     class  \n",
            "age    0.393440  0.363475  0.232951  0.157741  0.094434  0.050567 -0.225405  \n",
            "bp     0.270447  0.228250  0.086618  0.177601  0.054083  0.194962 -0.290600  \n",
            "sg    -0.323643 -0.351016 -0.135814 -0.230975 -0.253803 -0.184155  0.659504  \n",
            "al     0.406057  0.308101  0.200957  0.303145  0.411080  0.229556 -0.531562  \n",
            "su     0.254268  0.430514  0.229301  0.069216  0.116442  0.042464 -0.294555  \n",
            "rbc   -0.140538 -0.145646 -0.111493 -0.160868 -0.199285 -0.107625  0.282642  \n",
            "pc    -0.291719 -0.201032 -0.172295 -0.274985 -0.350227 -0.260566  0.375154  \n",
            "pcc    0.195623  0.165236  0.188029  0.189688  0.104356  0.175861 -0.265313  \n",
            "ba     0.089046  0.080070  0.162395  0.149126  0.134732  0.052208 -0.186871  \n",
            "bgr    0.369849  0.500618  0.212433  0.176132  0.101502  0.126854 -0.401374  \n",
            "bu     0.388383  0.312520  0.223553  0.272994  0.338274  0.435425 -0.372033  \n",
            "sc     0.274841  0.205491  0.192273  0.161511  0.176581  0.235791 -0.294079  \n",
            "sod   -0.307294 -0.266968 -0.219764 -0.159787 -0.150240 -0.199029  0.342288  \n",
            "pot    0.056565  0.061413  0.005761 -0.017388  0.061018  0.101299 -0.076921  \n",
            "hemo  -0.580775 -0.468059 -0.280461 -0.391144 -0.382765 -0.555807  0.729628  \n",
            "pcv   -0.572223 -0.454699 -0.294597 -0.391224 -0.394946 -0.514491  0.690060  \n",
            "wbcc   0.122173  0.152696  0.008370  0.149332  0.135872  0.036514 -0.205274  \n",
            "rbcc  -0.528346 -0.421980 -0.295561 -0.398133 -0.338635 -0.397659  0.590913  \n",
            "htn    1.000000  0.608118  0.325479  0.345070  0.371026  0.347802 -0.590438  \n",
            "dm     0.608118  1.000000  0.271172  0.325134  0.308463  0.183686 -0.559060  \n",
            "cad    0.325479  0.271172  1.000000  0.156104  0.172295  0.047700 -0.236088  \n",
            "appet  0.345070  0.325134  0.156104  1.000000  0.417055  0.254942 -0.393341  \n",
            "pe     0.371026  0.308463  0.172295  0.417055  1.000000  0.207025 -0.375154  \n",
            "ane    0.347802  0.183686  0.047700  0.254942  0.207025  1.000000 -0.325396  \n",
            "class -0.590438 -0.559060 -0.236088 -0.393341 -0.375154 -0.325396  1.000000  \n",
            "\n",
            "[25 rows x 25 columns]\n",
            "[[ 0.07624929 -0.38026942  0.36488968 ...  1.38553529 -0.50780078\n",
            "  -0.4843221 ]\n",
            " [ 2.36372784 -0.38026942  0.36488968 ... -0.72174272 -0.50780078\n",
            "  -0.4843221 ]\n",
            " [ 0.83874214  2.50785277  0.36488968 ...  1.38553529  1.96927621\n",
            "  -0.4843221 ]\n",
            " ...\n",
            " [-0.68624357 -0.38026942  0.36488968 ... -0.72174272 -0.50780078\n",
            "  -0.4843221 ]\n",
            " [-0.68624357 -0.38026942  0.36488968 ... -0.72174272 -0.50780078\n",
            "  -0.4843221 ]\n",
            " [-0.68624357 -0.38026942  0.36488968 ... -0.72174272 -0.50780078\n",
            "  -0.4843221 ]]\n"
          ]
        }
      ],
      "source": [
        "y = df['class']\n",
        "X=df.drop(\"class\",axis=1)\n",
        "\n",
        "X=X.iloc[:,sel2.ranking_==1]\n",
        "\n",
        "print(df.corr())\n",
        "print(X)"
      ]
    },
    {
      "cell_type": "markdown",
      "id": "GgSacu_DMHkh",
      "metadata": {
        "id": "GgSacu_DMHkh"
      },
      "source": []
    },
    {
      "cell_type": "code",
      "execution_count": null,
      "id": "a0dc1dba-77d4-4124-a360-a73513f865b7",
      "metadata": {
        "id": "a0dc1dba-77d4-4124-a360-a73513f865b7",
        "outputId": "1b7050ca-e8d6-4b87-846a-552ecfd24db1"
      },
      "outputs": [
        {
          "name": "stdout",
          "output_type": "stream",
          "text": [
            "Index(['age', 'bp', 'sg', 'al', 'su', 'rbc', 'pc', 'pcc', 'ba', 'bgr', 'bu',\n",
            "       'sc', 'sod', 'pot', 'hemo', 'pcv', 'wbcc', 'rbcc', 'htn', 'dm', 'cad',\n",
            "       'appet', 'pe', 'ane', 'class'],\n",
            "      dtype='object')\n",
            "[ 3  4  5  6  9 10 11 12 13 14 15 17 18 19 21 22]\n",
            "[6 2 4 1 1 1 1 7 8 1 1 1 1 1 1 1 5 1 1 1 9 1 1 3]\n",
            "Optimal number of features : 16\n"
          ]
        },
        {
          "name": "stderr",
          "output_type": "stream",
          "text": [
            "C:\\Users\\ASUS\\anaconda3\\lib\\site-packages\\sklearn\\utils\\deprecation.py:103: FutureWarning: The `grid_scores_` attribute is deprecated in version 1.0 in favor of `cv_results_` and will be removed in version 1.2.\n",
            "  warnings.warn(msg, category=FutureWarning)\n"
          ]
        },
        {
          "data": {
            "image/png": "[encoded data removed]",
            "text/plain": [
              "<Figure size 432x288 with 1 Axes>"
            ]
          },
          "metadata": {
            "needs_background": "light"
          },
          "output_type": "display_data"
        }
      ],
      "source": [
        "print(df.columns)\n",
        "print(sel2.get_support(indices=True))\n",
        "print(sel2.ranking_)\n",
        "print(\"Optimal number of features : %d\" % sel2.n_features_)\n",
        "plt.figure()\n",
        "plt.xlabel(\"Number of features selected\")\n",
        "plt.ylabel(\"Cross validation score (accuracy)\")\n",
        "\n",
        "plt.plot(\n",
        "    range(1, len(sel2.grid_scores_) + 1),\n",
        "       sel2.cv_results_['mean_test_score']\n",
        ")\n",
        "plt.show()"
      ]
    },
    {
      "cell_type": "markdown",
      "id": "W1bJsdZJMirI",
      "metadata": {
        "id": "W1bJsdZJMirI"
      },
      "source": [
        "# **IV) Training (Modélisation):**\n",
        "# A)Apprentissage supervisé\n",
        "\n",
        "**1)Classification:**\n",
        "\n",
        "a) KNN:\n",
        "\n",
        "La méthode train_test_split() est utilisée pour diviser nos données en ensembles d'entraînement et de test. Tout d'abord, nous devons diviser nos données en features(x) et labels(y)\n",
        "\n"
      ]
    },
    {
      "cell_type": "code",
      "execution_count": null,
      "id": "d65a4c3b-019b-4d91-8cd3-635f9c1eaba3",
      "metadata": {
        "id": "d65a4c3b-019b-4d91-8cd3-635f9c1eaba3"
      },
      "outputs": [],
      "source": [
        "X_train, X_test, y_train, y_test = train_test_split(X, y, test_size = 0.25, random_state = 0)\n",
        "# X_train=X_train.copy()\n",
        "# for column in X_train.columns:\n",
        "#     X_train[column] = (X_train[column] - X_train[column].min()) / (X_train[column].max() - X_train[column].min())\n",
        "# X_train.describe()\n"
      ]
    },
    {
      "cell_type": "markdown",
      "id": "lUKDfokKVJf8",
      "metadata": {
        "id": "lUKDfokKVJf8"
      },
      "source": [
        "# Hyperparameters\n",
        "* On cherche le meilleur set of parameters qui donnera les meilleurs resultats avec 'GridSearchCV'\n",
        "* On obtient 1 pour le nombre de neighbors et 1 pour le parameter p qui est la distance de manhattan"
      ]
    },
    {
      "cell_type": "code",
      "execution_count": null,
      "id": "8b0a67cc-32e0-4bb7-9242-aae3544d2694",
      "metadata": {
        "id": "8b0a67cc-32e0-4bb7-9242-aae3544d2694",
        "outputId": "4ad653d0-c638-47d0-b27e-89ac704af25c"
      },
      "outputs": [
        {
          "name": "stdout",
          "output_type": "stream",
          "text": [
            "2\n",
            "1\n"
          ]
        }
      ],
      "source": [
        "n_neighbors = list(range(1,20))\n",
        "p=[1,2]\n",
        "hyperparameters = dict(n_neighbors=n_neighbors, p=p)\n",
        "\n",
        "knn_2 = KNeighborsClassifier()\n",
        "clf = GridSearchCV(knn_2, hyperparameters, cv=5)\n",
        "\n",
        "best_model = clf.fit(X_train, y_train)\n",
        "\n",
        "print( best_model.best_estimator_.get_params()['p'])\n",
        "print( best_model.best_estimator_.get_params()['n_neighbors'])"
      ]
    },
    {
      "cell_type": "code",
      "execution_count": null,
      "id": "97f7cc1d-17c3-4fa2-ae71-dbdbe7238191",
      "metadata": {
        "id": "97f7cc1d-17c3-4fa2-ae71-dbdbe7238191"
      },
      "outputs": [],
      "source": [
        "\n",
        "hyperparameters = dict(n_neighbors=n_neighbors, p=p)\n",
        "\n",
        "scvG = svm.SVC()\n",
        "clf = GridSearchCV(knn_2, hyperparameters, cv=5)\n",
        "\n",
        "best_model = clf.fit(X_train, y_train)\n",
        "\n",
        "print( best_model.best_estimator_.get_params()['p'])\n",
        "print( best_model.best_estimator_.get_params()['n_neighbors'])"
      ]
    },
    {
      "cell_type": "markdown",
      "id": "HBavYiRzYPdi",
      "metadata": {
        "id": "HBavYiRzYPdi"
      },
      "source": [
        "Test"
      ]
    },
    {
      "cell_type": "code",
      "execution_count": null,
      "id": "d36a8c73-7d3b-465b-a4b5-76120da8eb14",
      "metadata": {
        "id": "d36a8c73-7d3b-465b-a4b5-76120da8eb14"
      },
      "outputs": [],
      "source": [
        "knn = KNeighborsClassifier(6,p=2)\n",
        "knn_model = knn.fit(X_train, y_train)\n",
        "y_pred_knn = knn_model.predict(X_test)"
      ]
    },
    {
      "cell_type": "markdown",
      "id": "EGtwJF_eBjsW",
      "metadata": {
        "id": "EGtwJF_eBjsW"
      },
      "source": [
        "**b) svm**\n",
        "\n"
      ]
    },
    {
      "cell_type": "code",
      "execution_count": null,
      "id": "bc02f66d-98bb-4f2f-aac8-cd246df0dff2",
      "metadata": {
        "id": "bc02f66d-98bb-4f2f-aac8-cd246df0dff2"
      },
      "outputs": [],
      "source": [
        "d=svm.SVC(kernel=\"linear\",C=10)\n",
        "svm_model = d.fit(X_train, y_train)\n",
        "y_pred_svm = svm_model.predict(X_test)"
      ]
    },
    {
      "cell_type": "code",
      "execution_count": null,
      "id": "26b3bdcc-68ad-44a0-86be-e316ff37e54f",
      "metadata": {
        "id": "26b3bdcc-68ad-44a0-86be-e316ff37e54f",
        "outputId": "aaab54cc-1f19-4007-e368-583eacc46e6e"
      },
      "outputs": [
        {
          "name": "stdout",
          "output_type": "stream",
          "text": [
            "              precision    recall  f1-score   support\n",
            "\n",
            "           0       1.00      0.97      0.98        62\n",
            "           1       0.95      1.00      0.97        38\n",
            "\n",
            "    accuracy                           0.98       100\n",
            "   macro avg       0.97      0.98      0.98       100\n",
            "weighted avg       0.98      0.98      0.98       100\n",
            "\n",
            "0.98\n",
            "ooo\n",
            "              precision    recall  f1-score   support\n",
            "\n",
            "           0       1.00      0.97      0.98        62\n",
            "           1       0.95      1.00      0.97        38\n",
            "\n",
            "    accuracy                           0.98       100\n",
            "   macro avg       0.97      0.98      0.98       100\n",
            "weighted avg       0.98      0.98      0.98       100\n",
            "\n"
          ]
        }
      ],
      "source": [
        "print(classification_report(y_test, y_pred_knn))\n",
        "print(accuracy_score(y_test, y_pred_knn))\n",
        "print(\"ooo\")\n",
        "print(classification_report(y_test, y_pred_svm))\n",
        "\n"
      ]
    },
    {
      "cell_type": "code",
      "execution_count": null,
      "id": "8506b6f3-950f-4e90-b8b8-1c136b82bd06",
      "metadata": {
        "id": "8506b6f3-950f-4e90-b8b8-1c136b82bd06",
        "outputId": "38132f48-b6be-4bdd-e65c-cd330e20b07d"
      },
      "outputs": [
        {
          "name": "stdout",
          "output_type": "stream",
          "text": [
            "entropy\n",
            "5\n"
          ]
        }
      ],
      "source": [
        "\n",
        "from sklearn.model_selection import GridSearchCV\n",
        "hyper=dict(criterion=['gini','entropy'],max_depth=range(1,12),random_state=0)\n",
        "clt=GridSearchCV(rd,hyper)\n",
        "clt.fit(X_train,y_train)\n",
        "print(clt.best_estimator_.get_params()[\"criterion\"])\n",
        "print(clt.best_estimator_.get_params()[\"max_depth\"])\n",
        "\n"
      ]
    },
    {
      "cell_type": "markdown",
      "id": "_-rW50E4YmvE",
      "metadata": {
        "id": "_-rW50E4YmvE"
      },
      "source": [
        "**c) Decision Tree** :\n",
        "\n",
        "Un autre moyen de classification est la \"Decision Tree\", c'est un modèle composé d'une collection de \"questions\" organisées de manière hiérarchique en forme d'arbre.\n",
        "le \"max_depth\" est fixé a 8 ici et\n",
        "\n",
        "on a obtenu une valeur d'accurancy = 99%\n"
      ]
    },
    {
      "cell_type": "code",
      "execution_count": null,
      "id": "1d447cc3-f15a-42c4-a953-c3148037ff11",
      "metadata": {
        "id": "1d447cc3-f15a-42c4-a953-c3148037ff11",
        "outputId": "c295eabe-1653-4de6-d5d8-cab5d86a689e"
      },
      "outputs": [
        {
          "name": "stdout",
          "output_type": "stream",
          "text": [
            "              precision    recall  f1-score   support\n",
            "\n",
            "           0       1.00      0.98      0.99        62\n",
            "           1       0.97      1.00      0.99        38\n",
            "\n",
            "    accuracy                           0.99       100\n",
            "   macro avg       0.99      0.99      0.99       100\n",
            "weighted avg       0.99      0.99      0.99       100\n",
            "\n",
            "0.99\n"
          ]
        }
      ],
      "source": [
        "rd=DecisionTreeClassifier(criterion=\"entropy\",max_depth=8)\n",
        "rd.fit(X_train,y_train)\n",
        "y_pred=rd.predict(X_test)\n",
        "print(classification_report(y_test, y_pred))\n",
        "print(accuracy_score(y_test, y_pred))"
      ]
    },
    {
      "cell_type": "markdown",
      "id": "pro_AC2CYtNK",
      "metadata": {
        "id": "pro_AC2CYtNK"
      },
      "source": [
        "**d) Random Forest**:\n",
        "\n",
        "* Random Forest est un algorithme d'apprentissage automatique supervisé puissant et polyvalent qui se développe et combine plusieurs arbres de décision pour créer une «forêt»\n",
        "* La decision finale est celle choisit par la majorité des \"Decision tree\"\n",
        "* Precision score est de valeur 0.97  et la valeur de l'accurancy est de 0.99\n",
        "donc on conclut que le Random Forest depasse les autres algorithmes.\n",
        "\n"
      ]
    },
    {
      "cell_type": "code",
      "execution_count": null,
      "id": "eb1e9008-ac89-4dde-a406-6328e065d8c8",
      "metadata": {
        "id": "eb1e9008-ac89-4dde-a406-6328e065d8c8",
        "outputId": "2f161cc5-34f8-4b38-e298-0c0a0ca6e412"
      },
      "outputs": [
        {
          "name": "stdout",
          "output_type": "stream",
          "text": [
            "[0 1 1 0 0 0 0 1 0 0 0 0 0 1 0 0 1 0 0 0 0 1 0 1 0 1 0 0 1 1 0 1 1 0 1 0 0\n",
            " 0 0 1 0 1 0 0 1 0 1 1 0 0 0 0 1 0 1 1 0 0 0 0 0 1 0 1 0 1 0 0 0 1 0 1 0 0\n",
            " 0 0 1 1 1 1 1 0 0 0 1 0 0 1 1 1 1 1 0 0 0 0 0 1 1 1]\n",
            "              precision    recall  f1-score   support\n",
            "\n",
            "           0       1.00      0.98      0.99        62\n",
            "           1       0.97      1.00      0.99        38\n",
            "\n",
            "    accuracy                           0.99       100\n",
            "   macro avg       0.99      0.99      0.99       100\n",
            "weighted avg       0.99      0.99      0.99       100\n",
            "\n",
            "0.9743589743589743\n",
            "0.99\n"
          ]
        }
      ],
      "source": [
        "\n",
        "rfc = RandomForestClassifier(criterion=\"entropy\",max_depth=7, random_state=0)\n",
        "rfc.fit(X_train,y_train)\n",
        "print(clf.predict(X_test))\n",
        "print(classification_report(y_test, y_pred))\n",
        "print(precision_score(y_test, y_pred))\n",
        "print(accuracy_score(y_test, y_pred))"
      ]
    },
    {
      "cell_type": "markdown",
      "id": "EVhbCFS9RbuD",
      "metadata": {
        "id": "EVhbCFS9RbuD"
      },
      "source": [
        "#  Hyperparameter\n",
        "* On cherche maintenant a savoir les meilleurs estimateurs qui donneront les meilleurs resultats.\n",
        "* Pour ce faire on utilise le \"GridSearchCV\"\n",
        "* On obtient au final les meilleurs estimateurs qui donneront le meilleur model\n",
        "500 pou le n_estimators, 7 pour le max de depth, et entropy pour criterion\n",
        "\n",
        "\n"
      ]
    },
    {
      "cell_type": "code",
      "execution_count": null,
      "id": "2b8ae23c-bd42-424f-96ed-6940572db2bb",
      "metadata": {
        "id": "2b8ae23c-bd42-424f-96ed-6940572db2bb",
        "outputId": "c5444bf0-209c-40a1-ed95-128f4ed0e432"
      },
      "outputs": [
        {
          "data": {
            "text/plain": [
              "GridSearchCV(cv=5,\n",
              "             estimator=RandomForestClassifier(max_depth=8, n_estimators=500,\n",
              "                                              random_state=42),\n",
              "             param_grid={'criterion': ['gini', 'entropy'],\n",
              "                         'max_depth': [1, 2, 3, 4, 5, 6, 7, 8, 9, 10, 11],\n",
              "                         'n_estimators': [200, 500]})"
            ]
          },
          "execution_count": 247,
          "metadata": {},
          "output_type": "execute_result"
        }
      ],
      "source": [
        "rfc=RandomForestClassifier(entropy)\n",
        "param_grid = {\n",
        "    'n_estimators': [200, 500],\n",
        "\n",
        "    'max_depth' : list(range(1,12)),\n",
        "    'criterion' :['gini', 'entropy']\n",
        "}\n",
        "CV_rfc = GridSearchCV(estimator=rfc, param_grid=param_grid, cv= 5)\n",
        "CV_rfc.fit(X_train,y_train)"
      ]
    },
    {
      "cell_type": "code",
      "execution_count": null,
      "id": "86fbdc51-433b-4a9a-b203-8b716250c261",
      "metadata": {
        "id": "86fbdc51-433b-4a9a-b203-8b716250c261",
        "outputId": "3e7c3a04-5739-4738-df04-0629f25d589f"
      },
      "outputs": [
        {
          "name": "stdout",
          "output_type": "stream",
          "text": [
            "500\n",
            "7\n",
            "entropy\n"
          ]
        }
      ],
      "source": [
        "print(CV_rfc.best_estimator_.get_params()[\"n_estimators\"])\n",
        "print(CV_rfc.best_estimator_.get_params()[\"max_depth\"])\n",
        "print(CV_rfc.best_estimator_.get_params()[\"criterion\"])"
      ]
    },
    {
      "cell_type": "code",
      "execution_count": null,
      "id": "9fc81341-5a89-4d8f-97e7-f528f429b391",
      "metadata": {
        "id": "9fc81341-5a89-4d8f-97e7-f528f429b391"
      },
      "outputs": [],
      "source": []
    }
  ],
  "metadata": {
    "colab": {
      "provenance": []
    },
    "kernelspec": {
      "display_name": ".venv",
      "language": "python",
      "name": "python3"
    },
    "language_info": {
      "codemirror_mode": {
        "name": "ipython",
        "version": 3
      },
      "file_extension": ".py",
      "mimetype": "text/x-python",
      "name": "python",
      "nbconvert_exporter": "python",
      "pygments_lexer": "ipython3",
      "version": "3.10.5"
    }
  },
  "nbformat": 4,
  "nbformat_minor": 5
}
